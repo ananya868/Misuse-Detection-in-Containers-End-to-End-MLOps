{
 "cells": [
  {
   "cell_type": "code",
   "execution_count": 1,
   "metadata": {},
   "outputs": [],
   "source": [
    "# import all classes from src \n",
    "from src.data_ingestion import DataIngestionFactory\n",
    "from src.data_cleaning import DataCleanerFactory, DropEmptyFeatures, DropMissingValues, FillMissingValuesStrategy\n",
    "from src.data_preprocessing import DataPreprocessingFactory, RemoveOutliers, CapOutliers, CapWithValues\n",
    "from src.feature_engineering import FeatureEngineeringFactory, FrequencyEncoding, TargetEncoding, TimeSeriesFeatureEngineering, ConvertToFloat\n",
    "from src.feature_selection import FeatureSelectionFactory, RobustScaling, LogTransformation, DimensionalityReduction, UnderSampling, OverSampling"
   ]
  },
  {
   "cell_type": "markdown",
   "metadata": {},
   "source": [
    "Data Ingestion"
   ]
  },
  {
   "cell_type": "code",
   "execution_count": 2,
   "metadata": {},
   "outputs": [],
   "source": [
    "obj = DataIngestionFactory()\n",
    "file_path = \"sampled_dataset.csv\"\n",
    "ing = obj.get_ingestor(file_path)\n",
    "data = ing.ingest(file_path)"
   ]
  },
  {
   "cell_type": "code",
   "execution_count": 5,
   "metadata": {},
   "outputs": [
    {
     "data": {
      "text/plain": [
       "(323148, 87)"
      ]
     },
     "execution_count": 5,
     "metadata": {},
     "output_type": "execute_result"
    }
   ],
   "source": [
    "data.shape "
   ]
  },
  {
   "cell_type": "markdown",
   "metadata": {},
   "source": [
    "Data Cleaning "
   ]
  },
  {
   "cell_type": "code",
   "execution_count": 7,
   "metadata": {},
   "outputs": [],
   "source": [
    "cleaner = DataCleanerFactory(strategy=DropEmptyFeatures())\n",
    "df_cleaned = cleaner.handle_missing_values(data)"
   ]
  },
  {
   "cell_type": "code",
   "execution_count": 9,
   "metadata": {},
   "outputs": [
    {
     "name": "stdout",
     "output_type": "stream",
     "text": [
      "Before dropping: 20966\n",
      "[info] --number of rows before dropping missing values: 323148--\n",
      "After dropping: 0\n"
     ]
    }
   ],
   "source": [
    "# lets try drop missing values\n",
    "print(f\"Before dropping: {df_cleaned.isna().sum().sum()}\")\n",
    "\n",
    "# lets try drop missing values\n",
    "# set the new strategy\n",
    "cleaner.set_strategy(DropMissingValues())\n",
    "df_missing_dropped = cleaner.handle_missing_values(data)\n",
    "\n",
    "print(f\"After dropping: {df_missing_dropped.isna().sum().sum()}\")"
   ]
  },
  {
   "cell_type": "markdown",
   "metadata": {},
   "source": [
    "Data Pre-processing"
   ]
  },
  {
   "cell_type": "code",
   "execution_count": 5,
   "metadata": {},
   "outputs": [],
   "source": [
    "x = 'Flow Duration'\n",
    "columns_to_cap = ['Total Fwd Packet', 'Total Bwd packets', 'Total Length of Fwd Packet', 'Total Length of Bwd Packet', 'Flow Bytes/s', 'Flow IAT Mean', 'Fwd Header Length', 'Bwd Header Length', 'Packet Length Variance']"
   ]
  },
  {
   "cell_type": "code",
   "execution_count": 6,
   "metadata": {},
   "outputs": [
    {
     "name": "stdout",
     "output_type": "stream",
     "text": [
      "Description before treatment:        Total Fwd Packet  Total Bwd packets  Total Length of Fwd Packet  \\\n",
      "count     318941.000000      318941.000000                3.189410e+05   \n",
      "mean         130.483939         107.153655                6.490474e+04   \n",
      "std          687.012398         589.720274                6.274008e+05   \n",
      "min            0.000000           0.000000                0.000000e+00   \n",
      "25%            5.000000           5.000000                4.740000e+02   \n",
      "50%            6.000000           5.000000                5.200000e+02   \n",
      "75%            7.000000           6.000000                1.042000e+03   \n",
      "max         7292.000000        7437.000000                1.703909e+07   \n",
      "\n",
      "       Total Length of Bwd Packet  Flow Bytes/s  Flow IAT Mean  \\\n",
      "count                3.189410e+05  3.189410e+05   3.189410e+05   \n",
      "mean                 1.877836e+05  1.543363e+06   2.740586e+05   \n",
      "std                  1.279044e+06  1.946000e+07   1.524879e+06   \n",
      "min                  0.000000e+00  0.000000e+00   4.821429e+00   \n",
      "25%                  3.570000e+02  1.310659e+04   7.986000e+02   \n",
      "50%                  3.570000e+02  2.945742e+04   3.707600e+03   \n",
      "75%                  3.570000e+02  1.337100e+05   1.118567e+04   \n",
      "max                  1.761526e+07  1.024885e+09   1.132760e+08   \n",
      "\n",
      "       Fwd Header Length  Bwd Header Length  Packet Length Variance  \n",
      "count      318941.000000      318941.000000            3.189410e+05  \n",
      "mean         4179.801343        3436.354874            1.612567e+06  \n",
      "std         21982.577922       18876.807842            2.291780e+07  \n",
      "min             0.000000           0.000000            0.000000e+00  \n",
      "25%           168.000000         168.000000            3.192136e+04  \n",
      "50%           200.000000         168.000000            3.433423e+04  \n",
      "75%           232.000000         200.000000            4.999838e+04  \n",
      "max        233416.000000      238044.000000            7.447440e+08  \n",
      "-____--------------------______\n",
      "Description after treatment:        Total Fwd Packet  Total Bwd packets  Total Length of Fwd Packet  \\\n",
      "count     318941.000000      318941.000000               318941.000000   \n",
      "mean           5.848138           4.799781                  576.690372   \n",
      "std            1.136280           1.564135                  341.685554   \n",
      "min            0.000000           0.000000                    0.000000   \n",
      "25%            5.000000           5.000000                  474.000000   \n",
      "50%            6.000000           5.000000                  520.000000   \n",
      "75%            7.000000           6.000000                 1042.000000   \n",
      "max            7.000000           6.000000                 1042.000000   \n",
      "\n",
      "       Total Length of Bwd Packet   Flow Bytes/s  Flow IAT Mean  \\\n",
      "count               318941.000000  318941.000000  318941.000000   \n",
      "mean                   308.844771   54978.713548    4984.514593   \n",
      "std                    110.080025   51720.730403    4368.032394   \n",
      "min                      0.000000       0.000000       4.821429   \n",
      "25%                    357.000000   13106.594293     798.600000   \n",
      "50%                    357.000000   29457.416655    3707.600000   \n",
      "75%                    357.000000  133709.981168   11185.666667   \n",
      "max                    357.000000  133709.981168   11185.666667   \n",
      "\n",
      "       Fwd Header Length  Bwd Header Length  Packet Length Variance  \n",
      "count      318941.000000      318941.000000           318941.000000  \n",
      "mean          195.097313         159.684280            32477.830215  \n",
      "std            39.213135          54.234513            15992.775097  \n",
      "min             0.000000           0.000000                0.000000  \n",
      "25%           168.000000         168.000000            31921.363636  \n",
      "50%           200.000000         168.000000            34334.233333  \n",
      "75%           232.000000         200.000000            49998.380952  \n",
      "max           232.000000         200.000000            49998.380952  \n"
     ]
    }
   ],
   "source": [
    "processor = DataPreprocessingFactory(strategy=CapOutliers(features=columns_to_cap))\n",
    "\n",
    "# print \n",
    "print(f\"Description before treatment: {df_missing_dropped[columns_to_cap].describe()}\")\n",
    "df_outliers_removed = processor.preprocess_features(df_missing_dropped)\n",
    "print(\"-____--------------------______\")\n",
    "print(f\"Description after treatment: {df_outliers_removed[columns_to_cap].describe()}\")"
   ]
  },
  {
   "cell_type": "code",
   "execution_count": 7,
   "metadata": {},
   "outputs": [],
   "source": [
    "# cap with specified values \n",
    "cap_dict = {\n",
    "    'Flow Packets/s': 200000,\n",
    "    'Down/Up Ratio': 4,\n",
    "    'Average Packet Size': 2500,\n",
    "    'Fwd Segment Size Avg': 2500,\n",
    "    'Bwd Segment Size Avg': 3000,\n",
    "    'Fwd Bytes/Bulk Avg': 250000,\n",
    "    'Subflow Fwd Bytes': 1700, \n",
    "    'Subflow Bwd Bytes': 2500,\n",
    "    'Bwd Init Win Bytes': 12000,\n",
    "    'Active Mean': 10000000,\n",
    "    'Idle Mean': 40000000,\n",
    "    'Total TCP Flow Time': 10000000000\n",
    "}\n",
    "\n",
    "processor.set_strategy(strategy=CapWithValues(cap_dict=cap_dict))\n",
    "df_capped = processor.preprocess_features(df_outliers_removed)"
   ]
  },
  {
   "cell_type": "markdown",
   "metadata": {},
   "source": [
    "Feature engineering"
   ]
  },
  {
   "cell_type": "code",
   "execution_count": 8,
   "metadata": {},
   "outputs": [
    {
     "data": {
      "text/plain": [
       "pandas.core.frame.DataFrame"
      ]
     },
     "execution_count": 8,
     "metadata": {},
     "output_type": "execute_result"
    }
   ],
   "source": [
    "type(df_capped)"
   ]
  },
  {
   "cell_type": "code",
   "execution_count": 9,
   "metadata": {},
   "outputs": [],
   "source": [
    "feature_eng = FeatureEngineeringFactory(strategy=FrequencyEncoding(cat_cols=['Flow ID']))\n",
    "df_freq_encoded = feature_eng.engineer_features(data=df_capped)"
   ]
  },
  {
   "cell_type": "code",
   "execution_count": 10,
   "metadata": {},
   "outputs": [],
   "source": [
    "# target encoding \n",
    "feature_eng.set_strategy(TargetEncoding(features=['Src IP', 'Dst IP'], target='Label'))\n",
    "df_target_encoded = feature_eng.engineer_features(data=df_freq_encoded)"
   ]
  },
  {
   "cell_type": "code",
   "execution_count": 11,
   "metadata": {},
   "outputs": [],
   "source": [
    "# time series \n",
    "feature_eng.set_strategy(TimeSeriesFeatureEngineering(features=['Timestamp'], target='Label'))\n",
    "df_time_series = feature_eng.engineer_features(data=df_target_encoded)"
   ]
  },
  {
   "cell_type": "code",
   "execution_count": 12,
   "metadata": {},
   "outputs": [
    {
     "data": {
      "text/html": [
       "<div>\n",
       "<style scoped>\n",
       "    .dataframe tbody tr th:only-of-type {\n",
       "        vertical-align: middle;\n",
       "    }\n",
       "\n",
       "    .dataframe tbody tr th {\n",
       "        vertical-align: top;\n",
       "    }\n",
       "\n",
       "    .dataframe thead th {\n",
       "        text-align: right;\n",
       "    }\n",
       "</style>\n",
       "<table border=\"1\" class=\"dataframe\">\n",
       "  <thead>\n",
       "    <tr style=\"text-align: right;\">\n",
       "      <th></th>\n",
       "      <th>Flow ID</th>\n",
       "      <th>Src IP</th>\n",
       "      <th>Src Port</th>\n",
       "      <th>Dst IP</th>\n",
       "      <th>Dst Port</th>\n",
       "      <th>Protocol</th>\n",
       "      <th>Flow Duration</th>\n",
       "      <th>Total Fwd Packet</th>\n",
       "      <th>Total Bwd packets</th>\n",
       "      <th>Total Length of Fwd Packet</th>\n",
       "      <th>...</th>\n",
       "      <th>Idle Max</th>\n",
       "      <th>Idle Min</th>\n",
       "      <th>Total TCP Flow Time</th>\n",
       "      <th>year</th>\n",
       "      <th>month</th>\n",
       "      <th>day</th>\n",
       "      <th>hour</th>\n",
       "      <th>minute</th>\n",
       "      <th>second</th>\n",
       "      <th>Label</th>\n",
       "    </tr>\n",
       "  </thead>\n",
       "  <tbody>\n",
       "    <tr>\n",
       "      <th>0</th>\n",
       "      <td>0.000016</td>\n",
       "      <td>0.169219</td>\n",
       "      <td>58172</td>\n",
       "      <td>0.0</td>\n",
       "      <td>8080</td>\n",
       "      <td>6</td>\n",
       "      <td>77583</td>\n",
       "      <td>6</td>\n",
       "      <td>5</td>\n",
       "      <td>517.0</td>\n",
       "      <td>...</td>\n",
       "      <td>0.0</td>\n",
       "      <td>0.0</td>\n",
       "      <td>77583</td>\n",
       "      <td>2023</td>\n",
       "      <td>12</td>\n",
       "      <td>6</td>\n",
       "      <td>22</td>\n",
       "      <td>9</td>\n",
       "      <td>38</td>\n",
       "      <td>0</td>\n",
       "    </tr>\n",
       "    <tr>\n",
       "      <th>1</th>\n",
       "      <td>0.000003</td>\n",
       "      <td>0.169219</td>\n",
       "      <td>42998</td>\n",
       "      <td>0.0</td>\n",
       "      <td>8080</td>\n",
       "      <td>6</td>\n",
       "      <td>1832</td>\n",
       "      <td>6</td>\n",
       "      <td>5</td>\n",
       "      <td>544.0</td>\n",
       "      <td>...</td>\n",
       "      <td>0.0</td>\n",
       "      <td>0.0</td>\n",
       "      <td>1832</td>\n",
       "      <td>2023</td>\n",
       "      <td>12</td>\n",
       "      <td>6</td>\n",
       "      <td>20</td>\n",
       "      <td>41</td>\n",
       "      <td>47</td>\n",
       "      <td>0</td>\n",
       "    </tr>\n",
       "  </tbody>\n",
       "</table>\n",
       "<p>2 rows × 92 columns</p>\n",
       "</div>"
      ],
      "text/plain": [
       "    Flow ID    Src IP  Src Port  Dst IP  Dst Port  Protocol  Flow Duration  \\\n",
       "0  0.000016  0.169219     58172     0.0      8080         6          77583   \n",
       "1  0.000003  0.169219     42998     0.0      8080         6           1832   \n",
       "\n",
       "   Total Fwd Packet  Total Bwd packets  Total Length of Fwd Packet  ...  \\\n",
       "0                 6                  5                       517.0  ...   \n",
       "1                 6                  5                       544.0  ...   \n",
       "\n",
       "   Idle Max  Idle Min  Total TCP Flow Time  year  month  day  hour  minute  \\\n",
       "0       0.0       0.0                77583  2023     12    6    22       9   \n",
       "1       0.0       0.0                 1832  2023     12    6    20      41   \n",
       "\n",
       "   second  Label  \n",
       "0      38      0  \n",
       "1      47      0  \n",
       "\n",
       "[2 rows x 92 columns]"
      ]
     },
     "execution_count": 12,
     "metadata": {},
     "output_type": "execute_result"
    }
   ],
   "source": [
    "df_time_series.head(2)"
   ]
  },
  {
   "cell_type": "code",
   "execution_count": 13,
   "metadata": {},
   "outputs": [],
   "source": [
    "# convert to float\n",
    "feature_eng.set_strategy(strategy=ConvertToFloat())\n",
    "df_float = feature_eng.engineer_features(data=df_time_series)"
   ]
  },
  {
   "cell_type": "markdown",
   "metadata": {},
   "source": [
    "Feature Selection"
   ]
  },
  {
   "cell_type": "code",
   "execution_count": 14,
   "metadata": {},
   "outputs": [],
   "source": [
    "log_scaler = FeatureSelectionFactory(strategy=LogTransformation())\n",
    "df_log_scaled = log_scaler.select_feature(df_float)"
   ]
  },
  {
   "cell_type": "code",
   "execution_count": 15,
   "metadata": {},
   "outputs": [],
   "source": [
    "# PCA \n",
    "log_scaler.set_strategy(DimensionalityReduction(n_components=9))\n",
    "df_pca = log_scaler.select_feature(df_log_scaled)"
   ]
  },
  {
   "cell_type": "code",
   "execution_count": 16,
   "metadata": {},
   "outputs": [],
   "source": [
    "# UnderSampling \n",
    "log_scaler.set_strategy(strategy=UnderSampling())\n",
    "df_undersampled = log_scaler.select_feature(df_pca)"
   ]
  },
  {
   "cell_type": "code",
   "execution_count": 17,
   "metadata": {},
   "outputs": [],
   "source": [
    "# # OverSampling \n",
    "# log_scaler.set_strategy(strategy=OverSampling())\n",
    "# df_resampled = log_scaler.select_feature(df_undersampled) "
   ]
  },
  {
   "cell_type": "code",
   "execution_count": 18,
   "metadata": {},
   "outputs": [],
   "source": [
    "from src.data_split import RandomSplitterFactory\n",
    "from src.data_split import (\n",
    "    RandomSplitter\n",
    ")"
   ]
  },
  {
   "cell_type": "code",
   "execution_count": 19,
   "metadata": {},
   "outputs": [],
   "source": [
    "splitter = RandomSplitterFactory(strategy=RandomSplitter())\n",
    "X_train, X_test, y_train, y_test = splitter.split(df_undersampled)"
   ]
  },
  {
   "cell_type": "code",
   "execution_count": 20,
   "metadata": {},
   "outputs": [
    {
     "name": "stdout",
     "output_type": "stream",
     "text": [
      "X_train shape: (19248, 9)\n",
      "X_test shape: (4812, 9)\n",
      "y_train shape: (19248,)\n",
      "y_test shape: (4812,)\n"
     ]
    }
   ],
   "source": [
    "# print shapes \n",
    "print(f\"X_train shape: {X_train.shape}\")\n",
    "print(f\"X_test shape: {X_test.shape}\")\n",
    "print(f\"y_train shape: {y_train.shape}\")\n",
    "print(f\"y_test shape: {y_test.shape}\")"
   ]
  },
  {
   "cell_type": "code",
   "execution_count": 21,
   "metadata": {},
   "outputs": [],
   "source": [
    "# model \n",
    "from src.model_building import (\n",
    "    ModelBuildingFactory,\n",
    "    GradientBoostingClassifierModel, \n",
    "    KNNClassifierModel, \n",
    "    RandomForestModel,\n",
    "    XGBoostModel,\n",
    ")"
   ]
  },
  {
   "cell_type": "code",
   "execution_count": 25,
   "metadata": {},
   "outputs": [
    {
     "name": "stdout",
     "output_type": "stream",
     "text": [
      "[info] --Training time: 6.445322036743164 seconds--\n"
     ]
    }
   ],
   "source": [
    "model = ModelBuildingFactory(RandomForestModel())\n",
    "\n",
    "# train \n",
    "pred, m = model.train_model(X_train, y_train, X_test)"
   ]
  },
  {
   "cell_type": "code",
   "execution_count": 27,
   "metadata": {},
   "outputs": [
    {
     "name": "stdout",
     "output_type": "stream",
     "text": [
      "[info] --Training time: 0.06400609016418457 seconds--\n"
     ]
    }
   ],
   "source": [
    "model.set_model(model=KNNClassifierModel())\n",
    "pred_1, m1 = model.train_model(X_train, y_train, X_test)"
   ]
  },
  {
   "cell_type": "code",
   "execution_count": 32,
   "metadata": {},
   "outputs": [
    {
     "name": "stderr",
     "output_type": "stream",
     "text": [
      "c:\\Users\\91790\\anaconda3\\Lib\\site-packages\\xgboost\\core.py:158: UserWarning: [13:51:44] WARNING: C:\\buildkite-agent\\builds\\buildkite-windows-cpu-autoscaling-group-i-06abd128ca6c1688d-1\\xgboost\\xgboost-ci-windows\\src\\learner.cc:740: \n",
      "Parameters: { \"use_label_encoder\" } are not used.\n",
      "\n",
      "  warnings.warn(smsg, UserWarning)\n"
     ]
    },
    {
     "name": "stdout",
     "output_type": "stream",
     "text": [
      "[info] --Training time: 12.469817161560059 seconds--\n"
     ]
    }
   ],
   "source": [
    "model.set_model(model=XGBoostModel())\n",
    "pred_2, m2 = model.train_model(X_train, y_train, X_test)"
   ]
  },
  {
   "cell_type": "code",
   "execution_count": null,
   "metadata": {},
   "outputs": [],
   "source": [
    "# Model  Evaluation \n",
    "from src.model_evaluation import ModelEvaluationFactory\n",
    "from src.model_evaluation import (\n",
    "    AccuracyScore,\n",
    "    ClassificationReport,\n",
    "    ConfusionMatrix,\n",
    ")"
   ]
  },
  {
   "cell_type": "code",
   "execution_count": 40,
   "metadata": {},
   "outputs": [
    {
     "name": "stdout",
     "output_type": "stream",
     "text": [
      "Accuracy: 0.9673732335827099\n",
      "Classification Report:               precision    recall  f1-score   support\n",
      "\n",
      "         0.0       0.99      0.97      0.98      2012\n",
      "         1.0       0.93      0.99      0.96      1550\n",
      "         2.0       0.99      0.96      0.97      1028\n",
      "         3.0       0.00      0.00      0.00         5\n",
      "         4.0       0.00      0.00      0.00         3\n",
      "         5.0       0.00      0.00      0.00         1\n",
      "         6.0       1.00      0.50      0.67         4\n",
      "         7.0       0.00      0.00      0.00         0\n",
      "         8.0       0.33      0.11      0.17        18\n",
      "        10.0       0.00      0.00      0.00         1\n",
      "        11.0       1.00      0.97      0.99       190\n",
      "\n",
      "    accuracy                           0.97      4812\n",
      "   macro avg       0.48      0.41      0.43      4812\n",
      "weighted avg       0.97      0.97      0.97      4812\n",
      "\n"
     ]
    },
    {
     "name": "stderr",
     "output_type": "stream",
     "text": [
      "c:\\Users\\91790\\anaconda3\\Lib\\site-packages\\sklearn\\metrics\\_classification.py:1344: UndefinedMetricWarning: Precision and F-score are ill-defined and being set to 0.0 in labels with no predicted samples. Use `zero_division` parameter to control this behavior.\n",
      "  _warn_prf(average, modifier, msg_start, len(result))\n",
      "c:\\Users\\91790\\anaconda3\\Lib\\site-packages\\sklearn\\metrics\\_classification.py:1344: UndefinedMetricWarning: Recall and F-score are ill-defined and being set to 0.0 in labels with no true samples. Use `zero_division` parameter to control this behavior.\n",
      "  _warn_prf(average, modifier, msg_start, len(result))\n",
      "c:\\Users\\91790\\anaconda3\\Lib\\site-packages\\sklearn\\metrics\\_classification.py:1344: UndefinedMetricWarning: Precision and F-score are ill-defined and being set to 0.0 in labels with no predicted samples. Use `zero_division` parameter to control this behavior.\n",
      "  _warn_prf(average, modifier, msg_start, len(result))\n",
      "c:\\Users\\91790\\anaconda3\\Lib\\site-packages\\sklearn\\metrics\\_classification.py:1344: UndefinedMetricWarning: Recall and F-score are ill-defined and being set to 0.0 in labels with no true samples. Use `zero_division` parameter to control this behavior.\n",
      "  _warn_prf(average, modifier, msg_start, len(result))\n",
      "c:\\Users\\91790\\anaconda3\\Lib\\site-packages\\sklearn\\metrics\\_classification.py:1344: UndefinedMetricWarning: Precision and F-score are ill-defined and being set to 0.0 in labels with no predicted samples. Use `zero_division` parameter to control this behavior.\n",
      "  _warn_prf(average, modifier, msg_start, len(result))\n",
      "c:\\Users\\91790\\anaconda3\\Lib\\site-packages\\sklearn\\metrics\\_classification.py:1344: UndefinedMetricWarning: Recall and F-score are ill-defined and being set to 0.0 in labels with no true samples. Use `zero_division` parameter to control this behavior.\n",
      "  _warn_prf(average, modifier, msg_start, len(result))\n"
     ]
    }
   ],
   "source": [
    "evaluator = ModelEvaluationFactory(strategy=AccuracyScore(y_test, pred))\n",
    "accuracy = evaluator.evaluate()\n",
    "print(f\"Accuracy: {accuracy}\") \n",
    "\n",
    "evaluator.set_strategy(strategy=ClassificationReport(y_test, pred))\n",
    "classification_report = evaluator.evaluate()\n",
    "print(f\"Classification Report: {classification_report}\")"
   ]
  },
  {
   "cell_type": "code",
   "execution_count": null,
   "metadata": {},
   "outputs": [],
   "source": []
  }
 ],
 "metadata": {
  "kernelspec": {
   "display_name": "base",
   "language": "python",
   "name": "python3"
  },
  "language_info": {
   "codemirror_mode": {
    "name": "ipython",
    "version": 3
   },
   "file_extension": ".py",
   "mimetype": "text/x-python",
   "name": "python",
   "nbconvert_exporter": "python",
   "pygments_lexer": "ipython3",
   "version": "3.11.5"
  }
 },
 "nbformat": 4,
 "nbformat_minor": 2
}
