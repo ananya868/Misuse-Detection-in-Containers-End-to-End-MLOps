{
 "cells": [
  {
   "cell_type": "code",
   "execution_count": 9,
   "metadata": {},
   "outputs": [],
   "source": [
    "from steps.data_ingestion_step import data_ingestion_step\n",
    "from steps.data_cleaning_step import data_cleaning_step\n",
    "from steps.data_preprocessing_step import data_preprocessing_step\n",
    "from steps.feature_engineering_step import feature_engineering_step\n",
    "from steps.feature_selection_step import feature_selection_step\n",
    "from steps.data_split_step import data_split_step\n",
    "from steps.model_building_step import model_building_step\n",
    "from steps.model_evaluation_step import model_evaluation_step"
   ]
  },
  {
   "cell_type": "markdown",
   "metadata": {},
   "source": []
  },
  {
   "cell_type": "code",
   "execution_count": 2,
   "metadata": {},
   "outputs": [
    {
     "name": "stderr",
     "output_type": "stream",
     "text": [
      "\u001b[32m2024-12-05 15:37:52.234\u001b[0m | \u001b[1mINFO    \u001b[0m | \u001b[36msteps.data_ingestion_step\u001b[0m:\u001b[36mdata_ingestion_step\u001b[0m:\u001b[36m14\u001b[0m - \u001b[1mData Ingested\u001b[0m\n"
     ]
    }
   ],
   "source": [
    "data = data_ingestion_step(\"sampled_dataset.csv\")"
   ]
  },
  {
   "cell_type": "code",
   "execution_count": 3,
   "metadata": {},
   "outputs": [
    {
     "name": "stderr",
     "output_type": "stream",
     "text": [
      "\u001b[32m2024-12-05 15:37:52.248\u001b[0m | \u001b[1mINFO    \u001b[0m | \u001b[36msteps.data_cleaning_step\u001b[0m:\u001b[36mdata_cleaning_step\u001b[0m:\u001b[36m18\u001b[0m - \u001b[1mDropping empty features\u001b[0m\n",
      "\u001b[32m2024-12-05 15:37:53.672\u001b[0m | \u001b[1mINFO    \u001b[0m | \u001b[36msteps.data_cleaning_step\u001b[0m:\u001b[36mdata_cleaning_step\u001b[0m:\u001b[36m20\u001b[0m - \u001b[1m--Drop empty features step completed\u001b[0m\n"
     ]
    },
    {
     "name": "stdout",
     "output_type": "stream",
     "text": [
      "[info] --number of rows before dropping missing values: 323148--\n"
     ]
    },
    {
     "name": "stderr",
     "output_type": "stream",
     "text": [
      "\u001b[32m2024-12-05 15:37:53.898\u001b[0m | \u001b[1mINFO    \u001b[0m | \u001b[36msteps.data_cleaning_step\u001b[0m:\u001b[36mdata_cleaning_step\u001b[0m:\u001b[36m31\u001b[0m - \u001b[1m--Drop missing values step completed\u001b[0m\n"
     ]
    }
   ],
   "source": [
    "data = data_cleaning_step(data)"
   ]
  },
  {
   "cell_type": "code",
   "execution_count": 4,
   "metadata": {},
   "outputs": [
    {
     "name": "stderr",
     "output_type": "stream",
     "text": [
      "\u001b[32m2024-12-05 15:37:53.962\u001b[0m | \u001b[1mINFO    \u001b[0m | \u001b[36msteps.data_preprocessing_step\u001b[0m:\u001b[36mdata_preprocessing_step\u001b[0m:\u001b[36m53\u001b[0m - \u001b[1mPre Processing initialized\u001b[0m\n",
      "\u001b[32m2024-12-05 15:37:54.152\u001b[0m | \u001b[1mINFO    \u001b[0m | \u001b[36msteps.data_preprocessing_step\u001b[0m:\u001b[36mdata_preprocessing_step\u001b[0m:\u001b[36m55\u001b[0m - \u001b[1m--Processed data by capping outliers.\u001b[0m\n",
      "\u001b[32m2024-12-05 15:37:54.515\u001b[0m | \u001b[1mINFO    \u001b[0m | \u001b[36msteps.data_preprocessing_step\u001b[0m:\u001b[36mdata_preprocessing_step\u001b[0m:\u001b[36m64\u001b[0m - \u001b[1m--Processed data by capping outliers with specified values.\u001b[0m\n"
     ]
    }
   ],
   "source": [
    "data = data_preprocessing_step(data)"
   ]
  },
  {
   "cell_type": "code",
   "execution_count": 5,
   "metadata": {},
   "outputs": [
    {
     "name": "stderr",
     "output_type": "stream",
     "text": [
      "\u001b[32m2024-12-05 15:37:54.571\u001b[0m | \u001b[1mINFO    \u001b[0m | \u001b[36msteps.feature_engineering_step\u001b[0m:\u001b[36mfeature_engineering_step\u001b[0m:\u001b[36m25\u001b[0m - \u001b[1mFeature Engineering initialized\u001b[0m\n",
      "\u001b[32m2024-12-05 15:37:55.624\u001b[0m | \u001b[1mINFO    \u001b[0m | \u001b[36msteps.feature_engineering_step\u001b[0m:\u001b[36mfeature_engineering_step\u001b[0m:\u001b[36m27\u001b[0m - \u001b[1m--Frequency encoding applied\u001b[0m\n",
      "\u001b[32m2024-12-05 15:37:56.793\u001b[0m | \u001b[1mINFO    \u001b[0m | \u001b[36msteps.feature_engineering_step\u001b[0m:\u001b[36mfeature_engineering_step\u001b[0m:\u001b[36m36\u001b[0m - \u001b[1m--Target encoding applied\u001b[0m\n",
      "\u001b[32m2024-12-05 15:37:57.616\u001b[0m | \u001b[1mINFO    \u001b[0m | \u001b[36msteps.feature_engineering_step\u001b[0m:\u001b[36mfeature_engineering_step\u001b[0m:\u001b[36m45\u001b[0m - \u001b[1m--Time series feature engineering applied\u001b[0m\n",
      "\u001b[32m2024-12-05 15:37:57.907\u001b[0m | \u001b[1mINFO    \u001b[0m | \u001b[36msteps.feature_engineering_step\u001b[0m:\u001b[36mfeature_engineering_step\u001b[0m:\u001b[36m54\u001b[0m - \u001b[1m--Convert to float applied\u001b[0m\n"
     ]
    }
   ],
   "source": [
    "data = feature_engineering_step(data)"
   ]
  },
  {
   "cell_type": "code",
   "execution_count": 6,
   "metadata": {},
   "outputs": [
    {
     "name": "stderr",
     "output_type": "stream",
     "text": [
      "\u001b[32m2024-12-05 15:37:57.965\u001b[0m | \u001b[1mINFO    \u001b[0m | \u001b[36msteps.feature_selection_step\u001b[0m:\u001b[36mfeature_selection_step\u001b[0m:\u001b[36m36\u001b[0m - \u001b[1mFeature Selection initialized\u001b[0m\n",
      "\u001b[32m2024-12-05 15:38:44.779\u001b[0m | \u001b[1mINFO    \u001b[0m | \u001b[36msteps.feature_selection_step\u001b[0m:\u001b[36mfeature_selection_step\u001b[0m:\u001b[36m38\u001b[0m - \u001b[1m--log transformation step completed\u001b[0m\n",
      "\u001b[32m2024-12-05 15:38:47.826\u001b[0m | \u001b[1mINFO    \u001b[0m | \u001b[36msteps.feature_selection_step\u001b[0m:\u001b[36mfeature_selection_step\u001b[0m:\u001b[36m57\u001b[0m - \u001b[1m--Dimensionality Reduction step completed\u001b[0m\n",
      "\u001b[32m2024-12-05 15:38:48.006\u001b[0m | \u001b[1mINFO    \u001b[0m | \u001b[36msteps.feature_selection_step\u001b[0m:\u001b[36mfeature_selection_step\u001b[0m:\u001b[36m67\u001b[0m - \u001b[1m--UnderSampling step completed\u001b[0m\n",
      "\u001b[32m2024-12-05 15:38:48.041\u001b[0m | \u001b[31m\u001b[1mERROR   \u001b[0m | \u001b[36msteps.feature_selection_step\u001b[0m:\u001b[36mfeature_selection_step\u001b[0m:\u001b[36m79\u001b[0m - \u001b[31m\u001b[1m--Over Sampling step failed. Might be due to the sampling strategy\u001b[0m\n"
     ]
    },
    {
     "name": "stdout",
     "output_type": "stream",
     "text": [
      "Error: Expected n_neighbors <= n_samples,  but n_samples = 2, n_neighbors = 6\n",
      "Over Sampling step failed. Might be due to the sampling strategy\n"
     ]
    }
   ],
   "source": [
    "data = feature_selection_step(data)"
   ]
  },
  {
   "cell_type": "markdown",
   "metadata": {},
   "source": [
    "this is due to usage of sampled_dataset.csv which has lesser data points than tha original dataset"
   ]
  },
  {
   "cell_type": "code",
   "execution_count": 7,
   "metadata": {},
   "outputs": [
    {
     "name": "stderr",
     "output_type": "stream",
     "text": [
      "\u001b[32m2024-12-05 15:38:48.100\u001b[0m | \u001b[1mINFO    \u001b[0m | \u001b[36msteps.data_split_step\u001b[0m:\u001b[36mdata_split_step\u001b[0m:\u001b[36m26\u001b[0m - \u001b[1m--Data split step completed successfully\u001b[0m\n",
      "\u001b[32m2024-12-05 15:38:48.102\u001b[0m | \u001b[1mINFO    \u001b[0m | \u001b[36msteps.data_split_step\u001b[0m:\u001b[36mdata_split_step\u001b[0m:\u001b[36m35\u001b[0m - \u001b[1m--Shape: (19248, 9) | x_test: (4812, 9)\u001b[0m\n",
      "\u001b[32m2024-12-05 15:38:48.105\u001b[0m | \u001b[1mINFO    \u001b[0m | \u001b[36msteps.data_split_step\u001b[0m:\u001b[36mdata_split_step\u001b[0m:\u001b[36m37\u001b[0m - \u001b[1m--Shape: (19248,) | y_test: (4812,)\u001b[0m\n"
     ]
    },
    {
     "name": "stdout",
     "output_type": "stream",
     "text": [
      "x_train: (19248, 9) | x_test: (4812, 9)\n",
      "y_train: (19248,) | y_test: (4812,)\n"
     ]
    }
   ],
   "source": [
    "x_train, x_test, y_train, y_test = data_split_step(data)"
   ]
  },
  {
   "cell_type": "code",
   "execution_count": 8,
   "metadata": {},
   "outputs": [
    {
     "name": "stderr",
     "output_type": "stream",
     "text": [
      "\u001b[32m2024-12-05 15:38:48.122\u001b[0m | \u001b[1mINFO    \u001b[0m | \u001b[36msteps.model_building_step\u001b[0m:\u001b[36mmodel_building_step\u001b[0m:\u001b[36m23\u001b[0m - \u001b[1mModel Building initiated\u001b[0m\n"
     ]
    },
    {
     "name": "stdout",
     "output_type": "stream",
     "text": [
      "[info] --Training time: 0.0445103645324707 seconds--\n"
     ]
    },
    {
     "name": "stderr",
     "output_type": "stream",
     "text": [
      "\u001b[32m2024-12-05 15:38:48.652\u001b[0m | \u001b[1mINFO    \u001b[0m | \u001b[36msteps.model_building_step\u001b[0m:\u001b[36mmodel_building_step\u001b[0m:\u001b[36m38\u001b[0m - \u001b[1m--K Nearest Neighbors Classifier model built successfully\u001b[0m\n"
     ]
    }
   ],
   "source": [
    "pred, model = model_building_step(x_train, y_train, x_test, model_name = \"K Nearest Neighbors Classifier\")"
   ]
  },
  {
   "cell_type": "code",
   "execution_count": 12,
   "metadata": {},
   "outputs": [
    {
     "name": "stderr",
     "output_type": "stream",
     "text": [
      "\u001b[32m2024-12-05 15:43:08.387\u001b[0m | \u001b[1mINFO    \u001b[0m | \u001b[36msteps.model_evaluation_step\u001b[0m:\u001b[36mmodel_evaluation_step\u001b[0m:\u001b[36m20\u001b[0m - \u001b[1mModel Evaluation initialized\u001b[0m\n",
      "\u001b[32m2024-12-05 15:43:08.394\u001b[0m | \u001b[1mINFO    \u001b[0m | \u001b[36msteps.model_evaluation_step\u001b[0m:\u001b[36mmodel_evaluation_step\u001b[0m:\u001b[36m26\u001b[0m - \u001b[1mAccuracy Score: 0.963216957605985\u001b[0m\n"
     ]
    }
   ],
   "source": [
    "score = model_evaluation_step(y_test, pred)"
   ]
  },
  {
   "cell_type": "code",
   "execution_count": 13,
   "metadata": {},
   "outputs": [
    {
     "name": "stdout",
     "output_type": "stream",
     "text": [
      "Accuracy:  0.963216957605985\n"
     ]
    }
   ],
   "source": [
    "print(\"Accuracy: \", score)"
   ]
  },
  {
   "cell_type": "code",
   "execution_count": 19,
   "metadata": {},
   "outputs": [],
   "source": [
    "# Test model on sample\n",
    "import numpy as np \n",
    "# take a sample\n",
    "test = x_test.sample(1)\n",
    "# convert to np array \n",
    "t = np.array(test.values)"
   ]
  },
  {
   "cell_type": "code",
   "execution_count": 22,
   "metadata": {},
   "outputs": [
    {
     "name": "stderr",
     "output_type": "stream",
     "text": [
      "c:\\Users\\91790\\anaconda3\\Lib\\site-packages\\sklearn\\base.py:439: UserWarning: X does not have valid feature names, but KNeighborsClassifier was fitted with feature names\n",
      "  warnings.warn(\n"
     ]
    },
    {
     "data": {
      "text/plain": [
       "array([0.])"
      ]
     },
     "execution_count": 22,
     "metadata": {},
     "output_type": "execute_result"
    }
   ],
   "source": [
    "model.predict(t)"
   ]
  }
 ],
 "metadata": {
  "kernelspec": {
   "display_name": "base",
   "language": "python",
   "name": "python3"
  },
  "language_info": {
   "codemirror_mode": {
    "name": "ipython",
    "version": 3
   },
   "file_extension": ".py",
   "mimetype": "text/x-python",
   "name": "python",
   "nbconvert_exporter": "python",
   "pygments_lexer": "ipython3",
   "version": "3.11.5"
  }
 },
 "nbformat": 4,
 "nbformat_minor": 2
}
