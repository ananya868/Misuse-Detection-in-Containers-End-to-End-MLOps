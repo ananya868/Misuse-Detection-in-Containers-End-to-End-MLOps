{
 "cells": [
  {
   "cell_type": "code",
   "execution_count": 1,
   "metadata": {},
   "outputs": [],
   "source": [
    "from datetime import datetime, timedelta\n",
    "import pandas as pd\n",
    "\n",
    "from feast import FeatureStore"
   ]
  },
  {
   "cell_type": "code",
   "execution_count": 4,
   "metadata": {},
   "outputs": [],
   "source": [
    "# sample read \n",
    "df = pd.read_parquet(\"data/predictors.parquet\")"
   ]
  },
  {
   "cell_type": "code",
   "execution_count": 6,
   "metadata": {},
   "outputs": [
    {
     "data": {
      "text/html": [
       "<div>\n",
       "<style scoped>\n",
       "    .dataframe tbody tr th:only-of-type {\n",
       "        vertical-align: middle;\n",
       "    }\n",
       "\n",
       "    .dataframe tbody tr th {\n",
       "        vertical-align: top;\n",
       "    }\n",
       "\n",
       "    .dataframe thead th {\n",
       "        text-align: right;\n",
       "    }\n",
       "</style>\n",
       "<table border=\"1\" class=\"dataframe\">\n",
       "  <thead>\n",
       "    <tr style=\"text-align: right;\">\n",
       "      <th></th>\n",
       "      <th>feature_id</th>\n",
       "      <th>event_timestamp</th>\n",
       "    </tr>\n",
       "  </thead>\n",
       "  <tbody>\n",
       "    <tr>\n",
       "      <th>0</th>\n",
       "      <td>0</td>\n",
       "      <td>2019-04-13 03:13:32.255766</td>\n",
       "    </tr>\n",
       "    <tr>\n",
       "      <th>1</th>\n",
       "      <td>1</td>\n",
       "      <td>2019-04-13 04:13:32.255766</td>\n",
       "    </tr>\n",
       "    <tr>\n",
       "      <th>2</th>\n",
       "      <td>2</td>\n",
       "      <td>2019-04-13 05:13:32.255766</td>\n",
       "    </tr>\n",
       "    <tr>\n",
       "      <th>3</th>\n",
       "      <td>3</td>\n",
       "      <td>2019-04-13 06:13:32.255766</td>\n",
       "    </tr>\n",
       "    <tr>\n",
       "      <th>4</th>\n",
       "      <td>4</td>\n",
       "      <td>2019-04-13 07:13:32.255766</td>\n",
       "    </tr>\n",
       "  </tbody>\n",
       "</table>\n",
       "</div>"
      ],
      "text/plain": [
       "   feature_id            event_timestamp\n",
       "0           0 2019-04-13 03:13:32.255766\n",
       "1           1 2019-04-13 04:13:32.255766\n",
       "2           2 2019-04-13 05:13:32.255766\n",
       "3           3 2019-04-13 06:13:32.255766\n",
       "4           4 2019-04-13 07:13:32.255766"
      ]
     },
     "execution_count": 6,
     "metadata": {},
     "output_type": "execute_result"
    }
   ],
   "source": [
    "sample_df = df.iloc[:5, :2]\n",
    "sample_df"
   ]
  },
  {
   "cell_type": "markdown",
   "metadata": {},
   "source": [
    "**get historical features**"
   ]
  },
  {
   "cell_type": "code",
   "execution_count": null,
   "metadata": {},
   "outputs": [],
   "source": [
    "# historical features\n",
    "# The entity dataframe is the dataframe we want to enrich with feature values\n",
    "entity_df = sample_df\n",
    "\n",
    "store = FeatureStore(repo_path=\".\")\n",
    "\n",
    "training_df = store.get_historical_features(\n",
    "    entity_df=entity_df,\n",
    "    features=[\n",
    "        \"misuse_det_feature_view:PC1\",\n",
    "        \"misuse_det_feature_view:PC2\",\n",
    "        \"misuse_det_feature_view:PC3\",\n",
    "    ]\n",
    ").to_df()"
   ]
  },
  {
   "cell_type": "code",
   "execution_count": 8,
   "metadata": {},
   "outputs": [
    {
     "name": "stdout",
     "output_type": "stream",
     "text": [
      "----- Feature schema -----\n",
      "\n",
      "<class 'pandas.core.frame.DataFrame'>\n",
      "RangeIndex: 5 entries, 0 to 4\n",
      "Data columns (total 5 columns):\n",
      " #   Column           Non-Null Count  Dtype              \n",
      "---  ------           --------------  -----              \n",
      " 0   feature_id       5 non-null      int64              \n",
      " 1   event_timestamp  5 non-null      datetime64[ns, UTC]\n",
      " 2   PC1              5 non-null      float64            \n",
      " 3   PC2              5 non-null      float64            \n",
      " 4   PC3              5 non-null      float64            \n",
      "dtypes: datetime64[ns, UTC](1), float64(3), int64(1)\n",
      "memory usage: 332.0 bytes\n",
      "None\n",
      "\n",
      "----- Example features -----\n",
      "\n",
      "   feature_id                  event_timestamp        PC1        PC2       PC3\n",
      "0           0 2019-04-13 03:13:32.255766+00:00  -1.030484  -0.917234 -0.417428\n",
      "1           1 2019-04-13 04:13:32.255766+00:00  -5.854288  -2.919187  0.919840\n",
      "2           2 2019-04-13 05:13:32.255766+00:00  21.583602 -12.471371 -5.233301\n",
      "3           3 2019-04-13 06:13:32.255766+00:00 -10.850762  -7.683307  0.440091\n",
      "4           4 2019-04-13 07:13:32.255766+00:00  -9.006383  -6.660352  0.009413\n"
     ]
    }
   ],
   "source": [
    "\n",
    "print(\"----- Feature schema -----\\n\")\n",
    "print(training_df.info())\n",
    "\n",
    "print()\n",
    "print(\"----- Example features -----\\n\")\n",
    "print(training_df.head())"
   ]
  },
  {
   "cell_type": "markdown",
   "metadata": {},
   "source": [
    "**Push to online**"
   ]
  },
  {
   "cell_type": "code",
   "execution_count": null,
   "metadata": {},
   "outputs": [],
   "source": [
    "# feast materialize-incremental 2024-11-25T00:00:00\n",
    "\n",
    "# starting from the date above, we can get the latest feature values"
   ]
  },
  {
   "cell_type": "code",
   "execution_count": 14,
   "metadata": {},
   "outputs": [
    {
     "name": "stdout",
     "output_type": "stream",
     "text": [
      "<class 'pandas.core.series.Series'>\n",
      "RangeIndex: 49522 entries, 0 to 49521\n",
      "Series name: feature_id\n",
      "Non-Null Count  Dtype\n",
      "--------------  -----\n",
      "49522 non-null  int64\n",
      "dtypes: int64(1)\n",
      "memory usage: 387.0 KB\n"
     ]
    }
   ],
   "source": [
    "df.feature_id.info()"
   ]
  },
  {
   "cell_type": "code",
   "execution_count": 19,
   "metadata": {},
   "outputs": [
    {
     "data": {
      "text/plain": [
       "49521"
      ]
     },
     "execution_count": 19,
     "metadata": {},
     "output_type": "execute_result"
    }
   ],
   "source": [
    "df['feature_id'].iloc[-1]"
   ]
  },
  {
   "cell_type": "code",
   "execution_count": 28,
   "metadata": {},
   "outputs": [],
   "source": [
    "# from pprint import pprint\n",
    "# from feast import FeatureStore\n",
    "\n",
    "# store = FeatureStore(repo_path=\".\")\n",
    "\n",
    "# feature_vector = store.get_online_features(\n",
    "#     features=[\n",
    "#         \"misuse_det_feature_view:PC1\",\n",
    "#         \"misuse_det_feature_view:PC2\",\n",
    "#         \"misuse_det_feature_view:PC3\",\n",
    "#     ],\n",
    "#     entity_rows=\n",
    "\n",
    "# ).to_dict()\n",
    "\n",
    "# pprint(feature_vector)"
   ]
  },
  {
   "cell_type": "code",
   "execution_count": null,
   "metadata": {},
   "outputs": [],
   "source": []
  }
 ],
 "metadata": {
  "kernelspec": {
   "display_name": "base",
   "language": "python",
   "name": "python3"
  },
  "language_info": {
   "codemirror_mode": {
    "name": "ipython",
    "version": 3
   },
   "file_extension": ".py",
   "mimetype": "text/x-python",
   "name": "python",
   "nbconvert_exporter": "python",
   "pygments_lexer": "ipython3",
   "version": "3.11.5"
  }
 },
 "nbformat": 4,
 "nbformat_minor": 2
}
