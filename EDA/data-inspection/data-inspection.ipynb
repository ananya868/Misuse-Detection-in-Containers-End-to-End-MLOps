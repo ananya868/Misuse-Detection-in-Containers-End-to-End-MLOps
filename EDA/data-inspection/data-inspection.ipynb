{
 "cells": [
  {
   "cell_type": "markdown",
   "metadata": {},
   "source": [
    "# Data Inspection\n",
    "\n",
    "An early look at the data to get a brief understanding\n",
    "\n",
    "1. Done to understand the **data structure** \n",
    "2. Analysis on data types, shape and dimension \n",
    "3. Basic data inspection is done to get early insights"
   ]
  },
  {
   "cell_type": "code",
   "execution_count": 8,
   "metadata": {},
   "outputs": [],
   "source": [
    "\"\"\"\"Importing Important Libraries For Data Inspection\"\"\"\n",
    "# Pandas play the key role in this step\n",
    "\n",
    "import pandas as pd \n",
    "import numpy as np\n",
    "import matplotlib.pyplot as plt\n",
    "import seaborn as sns\n",
    "import os \n",
    "import json "
   ]
  },
  {
   "cell_type": "markdown",
   "metadata": {},
   "source": [
    "**Functions**"
   ]
  },
  {
   "cell_type": "code",
   "execution_count": 2,
   "metadata": {},
   "outputs": [],
   "source": [
    "# Functions \n",
    "# Update this code block to add more functions as per need\n",
    "def read_data(data_path: str) -> pd.DataFrame:\n",
    "    \"\"\"\n",
    "    This function reads the data from the data path\n",
    "    \"\"\"\n",
    "    data = pd.read_csv(data_path)\n",
    "    return data"
   ]
  },
  {
   "cell_type": "markdown",
   "metadata": {},
   "source": [
    "**Data**"
   ]
  },
  {
   "cell_type": "code",
   "execution_count": 9,
   "metadata": {},
   "outputs": [],
   "source": [
    "# File path of the dataset \n",
    "# This file path is for temporary usage (For EDA)\n",
    "# It will be removed once the task is completed \n",
    "file_path = \"dataset.csv\"\n",
    "\n",
    "# Read the data\n",
    "try:\n",
    "    data = read_data(file_path)\n",
    "    print(\"File Read Successfully!\")\n",
    "except:\n",
    "    print(\"File not found!\")\n",
    "    print(\"[INFO] Please place the dataset.csv in the directory for use!\")"
   ]
  },
  {
   "cell_type": "markdown",
   "metadata": {},
   "source": [
    "### **Data Inspection**"
   ]
  },
  {
   "cell_type": "code",
   "execution_count": 12,
   "metadata": {},
   "outputs": [
    {
     "name": "stdout",
     "output_type": "stream",
     "text": [
      "Number of Features: 87\n",
      "Number of Instances: 3231475\n",
      "Overall shape: (3231475, 87)\n"
     ]
    }
   ],
   "source": [
    "# Shape of the data\n",
    "print(f\"Number of Features: {data.shape[1]}\")\n",
    "print(f\"Number of Instances: {data.shape[0]}\")\n",
    "\n",
    "# Overall shape\n",
    "print(f\"Overall shape: {data.shape}\")"
   ]
  },
  {
   "cell_type": "markdown",
   "metadata": {},
   "source": [
    "> The dataset consists of 3.2 million instances and 87 features with 1 target column called \"Label\""
   ]
  },
  {
   "cell_type": "code",
   "execution_count": 13,
   "metadata": {},
   "outputs": [
    {
     "name": "stdout",
     "output_type": "stream",
     "text": [
      "Columns: Index(['Flow ID', 'Src IP', 'Src Port', 'Dst IP', 'Dst Port', 'Protocol',\n",
      "       'Timestamp', 'Flow Duration', 'Total Fwd Packet', 'Total Bwd packets',\n",
      "       'Total Length of Fwd Packet', 'Total Length of Bwd Packet',\n",
      "       'Fwd Packet Length Max', 'Fwd Packet Length Min',\n",
      "       'Fwd Packet Length Mean', 'Fwd Packet Length Std',\n",
      "       'Bwd Packet Length Max', 'Bwd Packet Length Min',\n",
      "       'Bwd Packet Length Mean', 'Bwd Packet Length Std', 'Flow Bytes/s',\n",
      "       'Flow Packets/s', 'Flow IAT Mean', 'Flow IAT Std', 'Flow IAT Max',\n",
      "       'Flow IAT Min', 'Fwd IAT Total', 'Fwd IAT Mean', 'Fwd IAT Std',\n",
      "       'Fwd IAT Max', 'Fwd IAT Min', 'Bwd IAT Total', 'Bwd IAT Mean',\n",
      "       'Bwd IAT Std', 'Bwd IAT Max', 'Bwd IAT Min', 'Fwd PSH Flags',\n",
      "       'Bwd PSH Flags', 'Fwd URG Flags', 'Bwd URG Flags', 'Fwd RST Flags',\n",
      "       'Bwd RST Flags', 'Fwd Header Length', 'Bwd Header Length',\n",
      "       'Fwd Packets/s', 'Bwd Packets/s', 'Packet Length Min',\n",
      "       'Packet Length Max', 'Packet Length Mean', 'Packet Length Std',\n",
      "       'Packet Length Variance', 'FIN Flag Count', 'SYN Flag Count',\n",
      "       'RST Flag Count', 'PSH Flag Count', 'ACK Flag Count', 'URG Flag Count',\n",
      "       'CWR Flag Count', 'ECE Flag Count', 'Down/Up Ratio',\n",
      "       'Average Packet Size', 'Fwd Segment Size Avg', 'Bwd Segment Size Avg',\n",
      "       'Fwd Bytes/Bulk Avg', 'Fwd Packet/Bulk Avg', 'Fwd Bulk Rate Avg',\n",
      "       'Bwd Bytes/Bulk Avg', 'Bwd Packet/Bulk Avg', 'Bwd Bulk Rate Avg',\n",
      "       'Subflow Fwd Packets', 'Subflow Fwd Bytes', 'Subflow Bwd Packets',\n",
      "       'Subflow Bwd Bytes', 'FWD Init Win Bytes', 'Bwd Init Win Bytes',\n",
      "       'Fwd Act Data Pkts', 'Fwd Seg Size Min', 'Active Mean', 'Active Std',\n",
      "       'Active Max', 'Active Min', 'Idle Mean', 'Idle Std', 'Idle Max',\n",
      "       'Idle Min', 'Total TCP Flow Time', 'Label'],\n",
      "      dtype='object')\n"
     ]
    }
   ],
   "source": [
    "# Check for columns \n",
    "print(f\"Columns: {data.columns}\")"
   ]
  },
  {
   "cell_type": "markdown",
   "metadata": {},
   "source": [
    "> The features include mostly information about network packets, network protocols, time durations, lengths and other similar information\n",
    "\n",
    "> The target variable is named 'Label' showing 11 different labels, conveying this is a task of multi-class classification \n",
    "\n",
    "> The information on each label with their class number is given below:\n",
    "\n",
    "- Benign\t- 0\n",
    "- CVE‑2020‑13379 - 1\n",
    "- Node-RED Reconnaissance\t- 2\n",
    "- Node-RED RCE\t- 3\n",
    "- Node-RED Container Escape\t- 4\n",
    "- CVE‑2021‑43798\t- 5\n",
    "- CVE‑2019‑20933 - \t6\n",
    "- CVE‑2021‑30465 -\t7\n",
    "- CVE‑2021‑25741 -\t8\n",
    "- CVE‑2022‑23648 -\t9\n",
    "- CVE‑2019‑5736\t- 10\n",
    "- DSB Nuclei Scan\t- 11\n",
    "\n",
    "> *Note:* *The detailed information on each label is found at label-info.txt file in the base directory of this project*"
   ]
  },
  {
   "cell_type": "markdown",
   "metadata": {},
   "source": [
    "**Data Structure**"
   ]
  },
  {
   "cell_type": "code",
   "execution_count": 18,
   "metadata": {},
   "outputs": [
    {
     "name": "stdout",
     "output_type": "stream",
     "text": [
      "<class 'pandas.core.frame.DataFrame'>\n",
      "RangeIndex: 3231475 entries, 0 to 3231474\n",
      "Data columns (total 87 columns):\n",
      " #   Column                      Dtype  \n",
      "---  ------                      -----  \n",
      " 0   Flow ID                     object \n",
      " 1   Src IP                      object \n",
      " 2   Src Port                    int64  \n",
      " 3   Dst IP                      object \n",
      " 4   Dst Port                    int64  \n",
      " 5   Protocol                    int64  \n",
      " 6   Timestamp                   object \n",
      " 7   Flow Duration               int64  \n",
      " 8   Total Fwd Packet            int64  \n",
      " 9   Total Bwd packets           int64  \n",
      " 10  Total Length of Fwd Packet  float64\n",
      " 11  Total Length of Bwd Packet  float64\n",
      " 12  Fwd Packet Length Max       float64\n",
      " 13  Fwd Packet Length Min       float64\n",
      " 14  Fwd Packet Length Mean      float64\n",
      " 15  Fwd Packet Length Std       float64\n",
      " 16  Bwd Packet Length Max       float64\n",
      " 17  Bwd Packet Length Min       float64\n",
      " 18  Bwd Packet Length Mean      float64\n",
      " 19  Bwd Packet Length Std       float64\n",
      " 20  Flow Bytes/s                float64\n",
      " 21  Flow Packets/s              float64\n",
      " 22  Flow IAT Mean               float64\n",
      " 23  Flow IAT Std                float64\n",
      " 24  Flow IAT Max                float64\n",
      " 25  Flow IAT Min                float64\n",
      " 26  Fwd IAT Total               float64\n",
      " 27  Fwd IAT Mean                float64\n",
      " 28  Fwd IAT Std                 float64\n",
      " 29  Fwd IAT Max                 float64\n",
      " 30  Fwd IAT Min                 float64\n",
      " 31  Bwd IAT Total               float64\n",
      " 32  Bwd IAT Mean                float64\n",
      " 33  Bwd IAT Std                 float64\n",
      " 34  Bwd IAT Max                 float64\n",
      " 35  Bwd IAT Min                 float64\n",
      " 36  Fwd PSH Flags               int64  \n",
      " 37  Bwd PSH Flags               int64  \n",
      " 38  Fwd URG Flags               int64  \n",
      " 39  Bwd URG Flags               int64  \n",
      " 40  Fwd RST Flags               int64  \n",
      " 41  Bwd RST Flags               int64  \n",
      " 42  Fwd Header Length           int64  \n",
      " 43  Bwd Header Length           int64  \n",
      " 44  Fwd Packets/s               float64\n",
      " 45  Bwd Packets/s               float64\n",
      " 46  Packet Length Min           float64\n",
      " 47  Packet Length Max           float64\n",
      " 48  Packet Length Mean          float64\n",
      " 49  Packet Length Std           float64\n",
      " 50  Packet Length Variance      float64\n",
      " 51  FIN Flag Count              int64  \n",
      " 52  SYN Flag Count              int64  \n",
      " 53  RST Flag Count              int64  \n",
      " 54  PSH Flag Count              int64  \n",
      " 55  ACK Flag Count              int64  \n",
      " 56  URG Flag Count              int64  \n",
      " 57  CWR Flag Count              int64  \n",
      " 58  ECE Flag Count              int64  \n",
      " 59  Down/Up Ratio               float64\n",
      " 60  Average Packet Size         float64\n",
      " 61  Fwd Segment Size Avg        float64\n",
      " 62  Bwd Segment Size Avg        float64\n",
      " 63  Fwd Bytes/Bulk Avg          int64  \n",
      " 64  Fwd Packet/Bulk Avg         int64  \n",
      " 65  Fwd Bulk Rate Avg           int64  \n",
      " 66  Bwd Bytes/Bulk Avg          int64  \n",
      " 67  Bwd Packet/Bulk Avg         int64  \n",
      " 68  Bwd Bulk Rate Avg           int64  \n",
      " 69  Subflow Fwd Packets         int64  \n",
      " 70  Subflow Fwd Bytes           int64  \n",
      " 71  Subflow Bwd Packets         int64  \n",
      " 72  Subflow Bwd Bytes           int64  \n",
      " 73  FWD Init Win Bytes          int64  \n",
      " 74  Bwd Init Win Bytes          int64  \n",
      " 75  Fwd Act Data Pkts           int64  \n",
      " 76  Fwd Seg Size Min            int64  \n",
      " 77  Active Mean                 float64\n",
      " 78  Active Std                  float64\n",
      " 79  Active Max                  float64\n",
      " 80  Active Min                  float64\n",
      " 81  Idle Mean                   float64\n",
      " 82  Idle Std                    float64\n",
      " 83  Idle Max                    float64\n",
      " 84  Idle Min                    float64\n",
      " 85  Total TCP Flow Time         int64  \n",
      " 86  Label                       int64  \n",
      "dtypes: float64(45), int64(38), object(4)\n",
      "memory usage: 2.1+ GB\n"
     ]
    }
   ],
   "source": [
    "# Pandas info \n",
    "data.info()"
   ]
  },
  {
   "cell_type": "markdown",
   "metadata": {},
   "source": [
    "> Four columns are **categorical** type (object64)\n",
    "\n",
    "> 45 columns are **float** type (float64) and 38 are **integer** type (int64)\n",
    "\n",
    "> **INSIGHT**: Convert int to float (do as per requirement)\n",
    "\n",
    "> The total **memory usage is 2.1+ GBs**"
   ]
  }
 ],
 "metadata": {
  "kernelspec": {
   "display_name": "base",
   "language": "python",
   "name": "python3"
  },
  "language_info": {
   "codemirror_mode": {
    "name": "ipython",
    "version": 3
   },
   "file_extension": ".py",
   "mimetype": "text/x-python",
   "name": "python",
   "nbconvert_exporter": "python",
   "pygments_lexer": "ipython3",
   "version": "3.11.5"
  }
 },
 "nbformat": 4,
 "nbformat_minor": 2
}
