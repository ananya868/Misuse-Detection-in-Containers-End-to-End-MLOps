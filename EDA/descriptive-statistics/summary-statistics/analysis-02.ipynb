{
 "cells": [
  {
   "cell_type": "markdown",
   "metadata": {},
   "source": [
    "### Summary Statistics\n",
    "\n",
    "Summary statistics provide a concise overview of a dataset's distribution. Here's a breakdown of the commonly calculated metrics:\n",
    "\n",
    "**Central Tendency**\n",
    "- **Mean**: The average value of the dataset. It's calculated by summing all values and dividing by the number of values.\n",
    "- **Median**: The middle value in a dataset when the values are arranged in ascending order. It's a robust measure that's less sensitive to outliers than the mean.\n",
    "- **Mode**: The most frequent value in the dataset. There can be one mode (unimodal), multiple modes (multimodal), or no mode.\n",
    "\n",
    "**Dispersion**\n",
    "- **Standard Deviation**: Measures the spread of the data around the mean. A higher standard deviation indicates greater variability.\n",
    "- **Variance**: The square of the standard deviation.\n",
    "- **Range**: The difference between the maximum and minimum values.\n",
    "- **Interquartile Range (IQR)**: The difference between the 75th percentile (Q3) and the 25th percentile (Q1). It measures the spread of the middle 50% of the data.\n",
    "---"
   ]
  },
  {
   "cell_type": "markdown",
   "metadata": {},
   "source": [
    "**Category Name: Flow Duration and packet counts**\n",
    "\n",
    "These are the features we will process in this notebook:\n",
    "- Flow Duration: The total duration of the flow in seconds.\n",
    "- Total Fwd Packet: The total number of packets sent from the source to the destination.\n",
    "- Total Bwd packets: The total number of packets sent from the destination to the source."
   ]
  },
  {
   "cell_type": "code",
   "execution_count": 1,
   "metadata": {},
   "outputs": [],
   "source": [
    "# Importing important libraries \n",
    "import pandas as pd \n",
    "import numpy as np\n",
    "import matplotlib.pyplot as plt\n",
    "import seaborn as sns\n",
    "import os \n",
    "import json "
   ]
  },
  {
   "cell_type": "code",
   "execution_count": 2,
   "metadata": {},
   "outputs": [],
   "source": [
    "# Functions \n",
    "# Update this code block to add more functions as per need\n",
    "def read_data(data_path: str, usecols: list) -> pd.DataFrame:\n",
    "    \"\"\"\n",
    "    This function reads the data from the data path\n",
    "    \"\"\"\n",
    "    data = pd.read_csv(data_path, usecols=usecols)\n",
    "    return data"
   ]
  },
  {
   "cell_type": "markdown",
   "metadata": {},
   "source": [
    "**Data**"
   ]
  },
  {
   "cell_type": "code",
   "execution_count": 3,
   "metadata": {},
   "outputs": [
    {
     "name": "stdout",
     "output_type": "stream",
     "text": [
      "Successfully read 3 features\n"
     ]
    }
   ],
   "source": [
    "# Read data from filepath \n",
    "# This file path is for temporary usage (For EDA)\n",
    "# It will be removed once the task is completed \n",
    "\n",
    "file_path = \"dataset.csv\"\n",
    "# Columns in this category\n",
    "columns_to_read = ['Flow Duration', 'Total Fwd Packet', 'Total Bwd packets']\n",
    "\n",
    "# Read the data\n",
    "try:\n",
    "    data = read_data(file_path, usecols = columns_to_read)\n",
    "    print(f\"Successfully read {len(data.columns)} features\")\n",
    "except:\n",
    "    print(\"File not found!\")\n",
    "    print(\"[INFO] Please place the dataset.csv in the directory for use!\")"
   ]
  },
  {
   "cell_type": "markdown",
   "metadata": {},
   "source": [
    "**Analysis**"
   ]
  },
  {
   "cell_type": "code",
   "execution_count": 4,
   "metadata": {},
   "outputs": [
    {
     "data": {
      "text/html": [
       "<div>\n",
       "<style scoped>\n",
       "    .dataframe tbody tr th:only-of-type {\n",
       "        vertical-align: middle;\n",
       "    }\n",
       "\n",
       "    .dataframe tbody tr th {\n",
       "        vertical-align: top;\n",
       "    }\n",
       "\n",
       "    .dataframe thead th {\n",
       "        text-align: right;\n",
       "    }\n",
       "</style>\n",
       "<table border=\"1\" class=\"dataframe\">\n",
       "  <thead>\n",
       "    <tr style=\"text-align: right;\">\n",
       "      <th></th>\n",
       "      <th>Flow Duration</th>\n",
       "      <th>Total Fwd Packet</th>\n",
       "      <th>Total Bwd packets</th>\n",
       "    </tr>\n",
       "  </thead>\n",
       "  <tbody>\n",
       "    <tr>\n",
       "      <th>count</th>\n",
       "      <td>3.231475e+06</td>\n",
       "      <td>3.231475e+06</td>\n",
       "      <td>3.231475e+06</td>\n",
       "    </tr>\n",
       "    <tr>\n",
       "      <th>mean</th>\n",
       "      <td>6.954488e+06</td>\n",
       "      <td>1.287863e+02</td>\n",
       "      <td>1.057871e+02</td>\n",
       "    </tr>\n",
       "    <tr>\n",
       "      <th>std</th>\n",
       "      <td>2.454306e+07</td>\n",
       "      <td>6.822713e+02</td>\n",
       "      <td>5.863471e+02</td>\n",
       "    </tr>\n",
       "    <tr>\n",
       "      <th>min</th>\n",
       "      <td>0.000000e+00</td>\n",
       "      <td>0.000000e+00</td>\n",
       "      <td>0.000000e+00</td>\n",
       "    </tr>\n",
       "    <tr>\n",
       "      <th>25%</th>\n",
       "      <td>7.507000e+03</td>\n",
       "      <td>5.000000e+00</td>\n",
       "      <td>5.000000e+00</td>\n",
       "    </tr>\n",
       "    <tr>\n",
       "      <th>50%</th>\n",
       "      <td>3.760600e+04</td>\n",
       "      <td>6.000000e+00</td>\n",
       "      <td>5.000000e+00</td>\n",
       "    </tr>\n",
       "    <tr>\n",
       "      <th>75%</th>\n",
       "      <td>1.297550e+05</td>\n",
       "      <td>7.000000e+00</td>\n",
       "      <td>6.000000e+00</td>\n",
       "    </tr>\n",
       "    <tr>\n",
       "      <th>max</th>\n",
       "      <td>1.200000e+08</td>\n",
       "      <td>1.462100e+04</td>\n",
       "      <td>1.796600e+04</td>\n",
       "    </tr>\n",
       "  </tbody>\n",
       "</table>\n",
       "</div>"
      ],
      "text/plain": [
       "       Flow Duration  Total Fwd Packet  Total Bwd packets\n",
       "count   3.231475e+06      3.231475e+06       3.231475e+06\n",
       "mean    6.954488e+06      1.287863e+02       1.057871e+02\n",
       "std     2.454306e+07      6.822713e+02       5.863471e+02\n",
       "min     0.000000e+00      0.000000e+00       0.000000e+00\n",
       "25%     7.507000e+03      5.000000e+00       5.000000e+00\n",
       "50%     3.760600e+04      6.000000e+00       5.000000e+00\n",
       "75%     1.297550e+05      7.000000e+00       6.000000e+00\n",
       "max     1.200000e+08      1.462100e+04       1.796600e+04"
      ]
     },
     "execution_count": 4,
     "metadata": {},
     "output_type": "execute_result"
    }
   ],
   "source": [
    "# Pandas Describe function\n",
    "data.describe()"
   ]
  },
  {
   "cell_type": "code",
   "execution_count": 5,
   "metadata": {},
   "outputs": [
    {
     "data": {
      "text/plain": [
       "Index(['Flow Duration', 'Total Fwd Packet', 'Total Bwd packets'], dtype='object')"
      ]
     },
     "execution_count": 5,
     "metadata": {},
     "output_type": "execute_result"
    }
   ],
   "source": [
    "data.columns"
   ]
  },
  {
   "cell_type": "code",
   "execution_count": 7,
   "metadata": {},
   "outputs": [
    {
     "name": "stdout",
     "output_type": "stream",
     "text": [
      "<class 'pandas.core.frame.DataFrame'>\n",
      "RangeIndex: 3231475 entries, 0 to 3231474\n",
      "Data columns (total 3 columns):\n",
      " #   Column             Dtype\n",
      "---  ------             -----\n",
      " 0   Flow Duration      int64\n",
      " 1   Total Fwd Packet   int64\n",
      " 2   Total Bwd packets  int64\n",
      "dtypes: int64(3)\n",
      "memory usage: 74.0 MB\n"
     ]
    }
   ],
   "source": [
    "data.info()"
   ]
  },
  {
   "cell_type": "code",
   "execution_count": 8,
   "metadata": {},
   "outputs": [
    {
     "data": {
      "text/plain": [
       "Flow Duration        616643\n",
       "Total Fwd Packet       5819\n",
       "Total Bwd packets      6137\n",
       "dtype: int64"
      ]
     },
     "execution_count": 8,
     "metadata": {},
     "output_type": "execute_result"
    }
   ],
   "source": [
    "# Unique values \n",
    "data.nunique()"
   ]
  },
  {
   "cell_type": "markdown",
   "metadata": {},
   "source": [
    "> Flow Duration has 6 lakh + unique values indicating the duration is diverse\n",
    "\n",
    "> Total Fwd and Bwd Packets doesn't have many unique values suggesting it remains unchanged for many data points"
   ]
  },
  {
   "cell_type": "code",
   "execution_count": 9,
   "metadata": {},
   "outputs": [
    {
     "data": {
      "text/html": [
       "<div>\n",
       "<style scoped>\n",
       "    .dataframe tbody tr th:only-of-type {\n",
       "        vertical-align: middle;\n",
       "    }\n",
       "\n",
       "    .dataframe tbody tr th {\n",
       "        vertical-align: top;\n",
       "    }\n",
       "\n",
       "    .dataframe thead th {\n",
       "        text-align: right;\n",
       "    }\n",
       "</style>\n",
       "<table border=\"1\" class=\"dataframe\">\n",
       "  <thead>\n",
       "    <tr style=\"text-align: right;\">\n",
       "      <th></th>\n",
       "      <th>Flow Duration</th>\n",
       "      <th>Total Fwd Packet</th>\n",
       "      <th>Total Bwd packets</th>\n",
       "    </tr>\n",
       "  </thead>\n",
       "  <tbody>\n",
       "    <tr>\n",
       "      <th>count</th>\n",
       "      <td>3.231475e+06</td>\n",
       "      <td>3.231475e+06</td>\n",
       "      <td>3.231475e+06</td>\n",
       "    </tr>\n",
       "    <tr>\n",
       "      <th>mean</th>\n",
       "      <td>6.954488e+06</td>\n",
       "      <td>1.287863e+02</td>\n",
       "      <td>1.057871e+02</td>\n",
       "    </tr>\n",
       "    <tr>\n",
       "      <th>std</th>\n",
       "      <td>2.454306e+07</td>\n",
       "      <td>6.822713e+02</td>\n",
       "      <td>5.863471e+02</td>\n",
       "    </tr>\n",
       "    <tr>\n",
       "      <th>min</th>\n",
       "      <td>0.000000e+00</td>\n",
       "      <td>0.000000e+00</td>\n",
       "      <td>0.000000e+00</td>\n",
       "    </tr>\n",
       "    <tr>\n",
       "      <th>25%</th>\n",
       "      <td>7.507000e+03</td>\n",
       "      <td>5.000000e+00</td>\n",
       "      <td>5.000000e+00</td>\n",
       "    </tr>\n",
       "    <tr>\n",
       "      <th>50%</th>\n",
       "      <td>3.760600e+04</td>\n",
       "      <td>6.000000e+00</td>\n",
       "      <td>5.000000e+00</td>\n",
       "    </tr>\n",
       "    <tr>\n",
       "      <th>75%</th>\n",
       "      <td>1.297550e+05</td>\n",
       "      <td>7.000000e+00</td>\n",
       "      <td>6.000000e+00</td>\n",
       "    </tr>\n",
       "    <tr>\n",
       "      <th>max</th>\n",
       "      <td>1.200000e+08</td>\n",
       "      <td>1.462100e+04</td>\n",
       "      <td>1.796600e+04</td>\n",
       "    </tr>\n",
       "  </tbody>\n",
       "</table>\n",
       "</div>"
      ],
      "text/plain": [
       "       Flow Duration  Total Fwd Packet  Total Bwd packets\n",
       "count   3.231475e+06      3.231475e+06       3.231475e+06\n",
       "mean    6.954488e+06      1.287863e+02       1.057871e+02\n",
       "std     2.454306e+07      6.822713e+02       5.863471e+02\n",
       "min     0.000000e+00      0.000000e+00       0.000000e+00\n",
       "25%     7.507000e+03      5.000000e+00       5.000000e+00\n",
       "50%     3.760600e+04      6.000000e+00       5.000000e+00\n",
       "75%     1.297550e+05      7.000000e+00       6.000000e+00\n",
       "max     1.200000e+08      1.462100e+04       1.796600e+04"
      ]
     },
     "execution_count": 9,
     "metadata": {},
     "output_type": "execute_result"
    }
   ],
   "source": [
    "data.describe()"
   ]
  },
  {
   "cell_type": "markdown",
   "metadata": {},
   "source": [
    "> Flow Duration: Shows a wide range of values ranging bw 0 to 12 cr. 75% of the values are below 1.29 lakh (approx.), this column need to normalized for use \n",
    "\n",
    "> Total Fwd and Bwd packets shows the number of packets sent from forward and backward processes. For both these columns, the data points are similar and thus shows strong linear relationship."
   ]
  }
 ],
 "metadata": {
  "kernelspec": {
   "display_name": "base",
   "language": "python",
   "name": "python3"
  },
  "language_info": {
   "codemirror_mode": {
    "name": "ipython",
    "version": 3
   },
   "file_extension": ".py",
   "mimetype": "text/x-python",
   "name": "python",
   "nbconvert_exporter": "python",
   "pygments_lexer": "ipython3",
   "version": "3.11.5"
  }
 },
 "nbformat": 4,
 "nbformat_minor": 2
}
