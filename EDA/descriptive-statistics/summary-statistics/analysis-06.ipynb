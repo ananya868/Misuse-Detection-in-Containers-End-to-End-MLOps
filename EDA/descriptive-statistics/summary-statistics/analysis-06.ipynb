{
 "cells": [
  {
   "cell_type": "markdown",
   "metadata": {},
   "source": [
    "### Summary Statistics\n",
    "\n",
    "Summary statistics provide a concise overview of a dataset's distribution. Here's a breakdown of the commonly calculated metrics:\n",
    "\n",
    "**Central Tendency**\n",
    "- **Mean**: The average value of the dataset. It's calculated by summing all values and dividing by the number of values.\n",
    "- **Median**: The middle value in a dataset when the values are arranged in ascending order. It's a robust measure that's less sensitive to outliers than the mean.\n",
    "- **Mode**: The most frequent value in the dataset. There can be one mode (unimodal), multiple modes (multimodal), or no mode.\n",
    "\n",
    "**Dispersion**\n",
    "- **Standard Deviation**: Measures the spread of the data around the mean. A higher standard deviation indicates greater variability.\n",
    "- **Variance**: The square of the standard deviation.\n",
    "- **Range**: The difference between the maximum and minimum values.\n",
    "- **Interquartile Range (IQR)**: The difference between the 75th percentile (Q3) and the 25th percentile (Q1). It measures the spread of the middle 50% of the data.\n",
    "---"
   ]
  },
  {
   "cell_type": "markdown",
   "metadata": {},
   "source": [
    "**Category Name: Header Lengths**\n",
    "\n",
    "These are the features we will process in this notebook:\n",
    "- Fwd Header Length, Bwd Header Length: The length of the IP header for forward and backward packets, \n",
    "\n",
    "\n",
    "**Category Name: Packet length features**\n",
    "\n",
    "These are the features we will process in this notebook:\n",
    "- Packet Length Min, Max, Mean, Std: The minimum, maximum, mean, and standard deviation of packet lengths for the entire flow.\n",
    "- Packet Length Variance: The variance of packet lengths, indicating the spread of packet sizes."
   ]
  },
  {
   "cell_type": "code",
   "execution_count": 2,
   "metadata": {},
   "outputs": [],
   "source": [
    "# Importing important libraries \n",
    "import pandas as pd \n",
    "import numpy as np\n",
    "import matplotlib.pyplot as plt\n",
    "import seaborn as sns\n",
    "import os \n",
    "import json "
   ]
  },
  {
   "cell_type": "code",
   "execution_count": 3,
   "metadata": {},
   "outputs": [],
   "source": [
    "# Functions \n",
    "# Update this code block to add more functions as per need\n",
    "def read_data(data_path: str, usecols: list) -> pd.DataFrame:\n",
    "    \"\"\"\n",
    "    This function reads the data from the data path\n",
    "    \"\"\"\n",
    "    data = pd.read_csv(data_path, usecols=usecols)\n",
    "    return data"
   ]
  },
  {
   "cell_type": "markdown",
   "metadata": {},
   "source": [
    "**Data**"
   ]
  },
  {
   "cell_type": "code",
   "execution_count": 5,
   "metadata": {},
   "outputs": [
    {
     "name": "stdout",
     "output_type": "stream",
     "text": [
      "Successfully read 9 features\n"
     ]
    }
   ],
   "source": [
    "# Read data from filepath \n",
    "# This file path is for temporary usage (For EDA)\n",
    "# It will be removed once the task is completed \n",
    "\n",
    "file_path = \"dataset.csv\"\n",
    "# Columns in this category\n",
    "columns_to_read = ['Fwd Header Length', 'Bwd Header Length',\n",
    "       'Fwd Packets/s', 'Bwd Packets/s', 'Packet Length Min',\n",
    "       'Packet Length Max', 'Packet Length Mean', 'Packet Length Std',\n",
    "       'Packet Length Variance']\n",
    "\n",
    "# Read the data\n",
    "try:\n",
    "    data = read_data(file_path, usecols = columns_to_read)\n",
    "    print(f\"Successfully read {len(data.columns)} features\")\n",
    "except:\n",
    "    print(\"File not found!\")\n",
    "    print(\"[INFO] Please place the dataset.csv in the directory for use!\")"
   ]
  },
  {
   "cell_type": "markdown",
   "metadata": {},
   "source": [
    "**Analysis**"
   ]
  },
  {
   "cell_type": "code",
   "execution_count": 6,
   "metadata": {},
   "outputs": [
    {
     "data": {
      "text/html": [
       "<div>\n",
       "<style scoped>\n",
       "    .dataframe tbody tr th:only-of-type {\n",
       "        vertical-align: middle;\n",
       "    }\n",
       "\n",
       "    .dataframe tbody tr th {\n",
       "        vertical-align: top;\n",
       "    }\n",
       "\n",
       "    .dataframe thead th {\n",
       "        text-align: right;\n",
       "    }\n",
       "</style>\n",
       "<table border=\"1\" class=\"dataframe\">\n",
       "  <thead>\n",
       "    <tr style=\"text-align: right;\">\n",
       "      <th></th>\n",
       "      <th>Fwd Header Length</th>\n",
       "      <th>Bwd Header Length</th>\n",
       "      <th>Fwd Packets/s</th>\n",
       "      <th>Bwd Packets/s</th>\n",
       "      <th>Packet Length Min</th>\n",
       "      <th>Packet Length Max</th>\n",
       "      <th>Packet Length Mean</th>\n",
       "      <th>Packet Length Std</th>\n",
       "      <th>Packet Length Variance</th>\n",
       "    </tr>\n",
       "  </thead>\n",
       "  <tbody>\n",
       "    <tr>\n",
       "      <th>count</th>\n",
       "      <td>3.231475e+06</td>\n",
       "      <td>3.231475e+06</td>\n",
       "      <td>3.231475e+06</td>\n",
       "      <td>3.231475e+06</td>\n",
       "      <td>3.231475e+06</td>\n",
       "      <td>3.231475e+06</td>\n",
       "      <td>3.231475e+06</td>\n",
       "      <td>3.231475e+06</td>\n",
       "      <td>3.231475e+06</td>\n",
       "    </tr>\n",
       "    <tr>\n",
       "      <th>mean</th>\n",
       "      <td>4.124924e+03</td>\n",
       "      <td>3.392609e+03</td>\n",
       "      <td>2.274623e+03</td>\n",
       "      <td>1.944105e+03</td>\n",
       "      <td>8.355488e-01</td>\n",
       "      <td>2.165426e+03</td>\n",
       "      <td>2.164166e+02</td>\n",
       "      <td>4.638876e+02</td>\n",
       "      <td>1.596198e+06</td>\n",
       "    </tr>\n",
       "    <tr>\n",
       "      <th>std</th>\n",
       "      <td>2.183001e+04</td>\n",
       "      <td>1.876878e+04</td>\n",
       "      <td>5.989855e+03</td>\n",
       "      <td>5.127950e+03</td>\n",
       "      <td>6.574541e+00</td>\n",
       "      <td>4.968920e+03</td>\n",
       "      <td>6.260783e+02</td>\n",
       "      <td>1.175162e+03</td>\n",
       "      <td>2.262454e+07</td>\n",
       "    </tr>\n",
       "    <tr>\n",
       "      <th>min</th>\n",
       "      <td>0.000000e+00</td>\n",
       "      <td>0.000000e+00</td>\n",
       "      <td>0.000000e+00</td>\n",
       "      <td>0.000000e+00</td>\n",
       "      <td>0.000000e+00</td>\n",
       "      <td>0.000000e+00</td>\n",
       "      <td>0.000000e+00</td>\n",
       "      <td>0.000000e+00</td>\n",
       "      <td>0.000000e+00</td>\n",
       "    </tr>\n",
       "    <tr>\n",
       "      <th>25%</th>\n",
       "      <td>1.680000e+02</td>\n",
       "      <td>1.680000e+02</td>\n",
       "      <td>4.712465e+01</td>\n",
       "      <td>4.211342e+01</td>\n",
       "      <td>0.000000e+00</td>\n",
       "      <td>5.100000e+02</td>\n",
       "      <td>7.900000e+01</td>\n",
       "      <td>1.712078e+02</td>\n",
       "      <td>2.931210e+04</td>\n",
       "    </tr>\n",
       "    <tr>\n",
       "      <th>50%</th>\n",
       "      <td>2.000000e+02</td>\n",
       "      <td>1.680000e+02</td>\n",
       "      <td>1.546671e+02</td>\n",
       "      <td>1.342102e+02</td>\n",
       "      <td>0.000000e+00</td>\n",
       "      <td>5.200000e+02</td>\n",
       "      <td>8.209091e+01</td>\n",
       "      <td>1.845085e+02</td>\n",
       "      <td>3.404340e+04</td>\n",
       "    </tr>\n",
       "    <tr>\n",
       "      <th>75%</th>\n",
       "      <td>2.320000e+02</td>\n",
       "      <td>2.000000e+02</td>\n",
       "      <td>7.874016e+02</td>\n",
       "      <td>6.440809e+02</td>\n",
       "      <td>0.000000e+00</td>\n",
       "      <td>5.450000e+02</td>\n",
       "      <td>1.260000e+02</td>\n",
       "      <td>2.213949e+02</td>\n",
       "      <td>4.901569e+04</td>\n",
       "    </tr>\n",
       "    <tr>\n",
       "      <th>max</th>\n",
       "      <td>4.857720e+05</td>\n",
       "      <td>5.749200e+05</td>\n",
       "      <td>3.333333e+05</td>\n",
       "      <td>2.500000e+05</td>\n",
       "      <td>1.348000e+03</td>\n",
       "      <td>6.470400e+04</td>\n",
       "      <td>1.814490e+04</td>\n",
       "      <td>2.751984e+04</td>\n",
       "      <td>7.573413e+08</td>\n",
       "    </tr>\n",
       "  </tbody>\n",
       "</table>\n",
       "</div>"
      ],
      "text/plain": [
       "       Fwd Header Length  Bwd Header Length  Fwd Packets/s  Bwd Packets/s  \\\n",
       "count       3.231475e+06       3.231475e+06   3.231475e+06   3.231475e+06   \n",
       "mean        4.124924e+03       3.392609e+03   2.274623e+03   1.944105e+03   \n",
       "std         2.183001e+04       1.876878e+04   5.989855e+03   5.127950e+03   \n",
       "min         0.000000e+00       0.000000e+00   0.000000e+00   0.000000e+00   \n",
       "25%         1.680000e+02       1.680000e+02   4.712465e+01   4.211342e+01   \n",
       "50%         2.000000e+02       1.680000e+02   1.546671e+02   1.342102e+02   \n",
       "75%         2.320000e+02       2.000000e+02   7.874016e+02   6.440809e+02   \n",
       "max         4.857720e+05       5.749200e+05   3.333333e+05   2.500000e+05   \n",
       "\n",
       "       Packet Length Min  Packet Length Max  Packet Length Mean  \\\n",
       "count       3.231475e+06       3.231475e+06        3.231475e+06   \n",
       "mean        8.355488e-01       2.165426e+03        2.164166e+02   \n",
       "std         6.574541e+00       4.968920e+03        6.260783e+02   \n",
       "min         0.000000e+00       0.000000e+00        0.000000e+00   \n",
       "25%         0.000000e+00       5.100000e+02        7.900000e+01   \n",
       "50%         0.000000e+00       5.200000e+02        8.209091e+01   \n",
       "75%         0.000000e+00       5.450000e+02        1.260000e+02   \n",
       "max         1.348000e+03       6.470400e+04        1.814490e+04   \n",
       "\n",
       "       Packet Length Std  Packet Length Variance  \n",
       "count       3.231475e+06            3.231475e+06  \n",
       "mean        4.638876e+02            1.596198e+06  \n",
       "std         1.175162e+03            2.262454e+07  \n",
       "min         0.000000e+00            0.000000e+00  \n",
       "25%         1.712078e+02            2.931210e+04  \n",
       "50%         1.845085e+02            3.404340e+04  \n",
       "75%         2.213949e+02            4.901569e+04  \n",
       "max         2.751984e+04            7.573413e+08  "
      ]
     },
     "execution_count": 6,
     "metadata": {},
     "output_type": "execute_result"
    }
   ],
   "source": [
    "# pandas Describe \n",
    "data.describe()"
   ]
  },
  {
   "cell_type": "code",
   "execution_count": 7,
   "metadata": {},
   "outputs": [
    {
     "data": {
      "text/plain": [
       "Fwd Header Length           18193\n",
       "Bwd Header Length           21811\n",
       "Fwd Packets/s             1100889\n",
       "Bwd Packets/s              904276\n",
       "Packet Length Min              72\n",
       "Packet Length Max           23070\n",
       "Packet Length Mean         504807\n",
       "Packet Length Std          616971\n",
       "Packet Length Variance     622424\n",
       "dtype: int64"
      ]
     },
     "execution_count": 7,
     "metadata": {},
     "output_type": "execute_result"
    }
   ],
   "source": [
    "# Unique values\n",
    "data.nunique()"
   ]
  },
  {
   "cell_type": "markdown",
   "metadata": {},
   "source": [
    "> Packet length Min has high data imbalance indicating the minimum length for most packets is 0.\n",
    "\n",
    "> Fwd and Bwd header length has some values (25%) in very high range, indicating some header lengths are typically higher. These columns also need to be normalized. \n",
    "\n",
    "> Number of fwd and bwd packets per seconds also has some values in high range indicating correlation with header lengths."
   ]
  },
  {
   "cell_type": "code",
   "execution_count": 9,
   "metadata": {},
   "outputs": [
    {
     "data": {
      "text/plain": [
       "Packet Length Min\n",
       "0.0      3167801\n",
       "38.0       24571\n",
       "55.0       15006\n",
       "29.0        7548\n",
       "37.0        4838\n",
       "          ...   \n",
       "115.0          1\n",
       "58.0           1\n",
       "138.0          1\n",
       "199.0          1\n",
       "478.0          1\n",
       "Name: count, Length: 72, dtype: int64"
      ]
     },
     "execution_count": 9,
     "metadata": {},
     "output_type": "execute_result"
    }
   ],
   "source": [
    "data['Packet Length Min'].value_counts()"
   ]
  }
 ],
 "metadata": {
  "kernelspec": {
   "display_name": "base",
   "language": "python",
   "name": "python3"
  },
  "language_info": {
   "codemirror_mode": {
    "name": "ipython",
    "version": 3
   },
   "file_extension": ".py",
   "mimetype": "text/x-python",
   "name": "python",
   "nbconvert_exporter": "python",
   "pygments_lexer": "ipython3",
   "version": "3.11.5"
  }
 },
 "nbformat": 4,
 "nbformat_minor": 2
}
