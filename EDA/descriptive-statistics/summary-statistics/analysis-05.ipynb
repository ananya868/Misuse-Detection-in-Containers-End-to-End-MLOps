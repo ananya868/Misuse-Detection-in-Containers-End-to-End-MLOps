{
 "cells": [
  {
   "cell_type": "markdown",
   "metadata": {},
   "source": [
    "### Summary Statistics\n",
    "\n",
    "Summary statistics provide a concise overview of a dataset's distribution. Here's a breakdown of the commonly calculated metrics:\n",
    "\n",
    "**Central Tendency**\n",
    "- **Mean**: The average value of the dataset. Its calculated by summing all values and dividing by the number of values.\n",
    "- **Median**: The middle value in a dataset when the values are arranged in ascending order. It's a robust measure that's less sensitive to outliers than the mean.\n",
    "- **Mode**: The most frequent value in the dataset. There can be one mode (unimodal), multiple modes (multimodal), or no mode.\n",
    "\n",
    "**Dispersion**\n",
    "- **Standard Deviation**: Measures the spread of the data around the mean. A higher standard deviation indicates greater variability.\n",
    "- **Variance**: The square of the standard deviation.\n",
    "- **Range**: The difference between the maximum and minimum values.\n",
    "- **Interquartile Range (IQR)**: The difference between the 75th percentile (Q3) and the 25th percentile (Q1). It measures the spread of the middle 50% of the data.\n",
    "---"
   ]
  },
  {
   "cell_type": "markdown",
   "metadata": {},
   "source": [
    "**Category Name: Flag Based features**\n",
    "\n",
    "These are the features we will process in this notebook:\n",
    "- Fwd PSH Flags, Bwd PSH Flags: Indicate whether the push flag is set in forward and backward packets, respectively.\n",
    "- Fwd URG Flags, Bwd URG Flags: Indicate whether the urgent flag is set in forward and backward packets, respectively.\n",
    "- Fwd RST Flags, Bwd RST Flags: Indicate whether the reset flag is set in forward and backward packets, respectively.\n"
   ]
  },
  {
   "cell_type": "code",
   "execution_count": 4,
   "metadata": {},
   "outputs": [],
   "source": [
    "# Importing important libraries \n",
    "import pandas as pd \n",
    "import numpy as np\n",
    "import matplotlib.pyplot as plt\n",
    "import seaborn as sns\n",
    "import os \n",
    "import json "
   ]
  },
  {
   "cell_type": "code",
   "execution_count": 5,
   "metadata": {},
   "outputs": [],
   "source": [
    "# Functions \n",
    "# Update this code block to add more functions as per need\n",
    "def read_data(data_path: str, usecols: list) -> pd.DataFrame:\n",
    "    \"\"\"\n",
    "    This function reads the data from the data path\n",
    "    \"\"\"\n",
    "    data = pd.read_csv(data_path, usecols=usecols)\n",
    "    return data"
   ]
  },
  {
   "cell_type": "markdown",
   "metadata": {},
   "source": [
    "**Data**"
   ]
  },
  {
   "cell_type": "code",
   "execution_count": 6,
   "metadata": {},
   "outputs": [
    {
     "name": "stdout",
     "output_type": "stream",
     "text": [
      "Successfully read 6 features\n"
     ]
    }
   ],
   "source": [
    "# Read data from filepath \n",
    "# This file path is for temporary usage (For EDA)\n",
    "# It will be removed once the task is completed \n",
    "\n",
    "file_path = \"dataset.csv\"\n",
    "# Columns in this category\n",
    "columns_to_read = ['Fwd PSH Flags',\n",
    "       'Bwd PSH Flags', 'Fwd URG Flags', 'Bwd URG Flags', 'Fwd RST Flags',\n",
    "       'Bwd RST Flags']\n",
    "\n",
    "# Read the data\n",
    "try:\n",
    "    data = read_data(file_path, usecols = columns_to_read)\n",
    "    print(f\"Successfully read {len(data.columns)} features\")\n",
    "except:\n",
    "    print(\"File not found!\")\n",
    "    print(\"[INFO] Please place the dataset.csv in the directory for use!\")"
   ]
  },
  {
   "cell_type": "markdown",
   "metadata": {},
   "source": [
    "**Analysis**"
   ]
  },
  {
   "cell_type": "code",
   "execution_count": 7,
   "metadata": {},
   "outputs": [
    {
     "data": {
      "text/html": [
       "<div>\n",
       "<style scoped>\n",
       "    .dataframe tbody tr th:only-of-type {\n",
       "        vertical-align: middle;\n",
       "    }\n",
       "\n",
       "    .dataframe tbody tr th {\n",
       "        vertical-align: top;\n",
       "    }\n",
       "\n",
       "    .dataframe thead th {\n",
       "        text-align: right;\n",
       "    }\n",
       "</style>\n",
       "<table border=\"1\" class=\"dataframe\">\n",
       "  <thead>\n",
       "    <tr style=\"text-align: right;\">\n",
       "      <th></th>\n",
       "      <th>Fwd PSH Flags</th>\n",
       "      <th>Bwd PSH Flags</th>\n",
       "      <th>Fwd URG Flags</th>\n",
       "      <th>Bwd URG Flags</th>\n",
       "      <th>Fwd RST Flags</th>\n",
       "      <th>Bwd RST Flags</th>\n",
       "    </tr>\n",
       "  </thead>\n",
       "  <tbody>\n",
       "    <tr>\n",
       "      <th>count</th>\n",
       "      <td>3.231475e+06</td>\n",
       "      <td>3.231475e+06</td>\n",
       "      <td>3231475.0</td>\n",
       "      <td>3231475.0</td>\n",
       "      <td>3.231475e+06</td>\n",
       "      <td>3.231475e+06</td>\n",
       "    </tr>\n",
       "    <tr>\n",
       "      <th>mean</th>\n",
       "      <td>7.533344e+01</td>\n",
       "      <td>7.953056e+01</td>\n",
       "      <td>0.0</td>\n",
       "      <td>0.0</td>\n",
       "      <td>1.665648e-02</td>\n",
       "      <td>7.517310e-03</td>\n",
       "    </tr>\n",
       "    <tr>\n",
       "      <th>std</th>\n",
       "      <td>4.183171e+02</td>\n",
       "      <td>5.331010e+02</td>\n",
       "      <td>0.0</td>\n",
       "      <td>0.0</td>\n",
       "      <td>1.581370e-01</td>\n",
       "      <td>1.220052e-01</td>\n",
       "    </tr>\n",
       "    <tr>\n",
       "      <th>min</th>\n",
       "      <td>0.000000e+00</td>\n",
       "      <td>0.000000e+00</td>\n",
       "      <td>0.0</td>\n",
       "      <td>0.0</td>\n",
       "      <td>0.000000e+00</td>\n",
       "      <td>0.000000e+00</td>\n",
       "    </tr>\n",
       "    <tr>\n",
       "      <th>25%</th>\n",
       "      <td>1.000000e+00</td>\n",
       "      <td>1.000000e+00</td>\n",
       "      <td>0.0</td>\n",
       "      <td>0.0</td>\n",
       "      <td>0.000000e+00</td>\n",
       "      <td>0.000000e+00</td>\n",
       "    </tr>\n",
       "    <tr>\n",
       "      <th>50%</th>\n",
       "      <td>1.000000e+00</td>\n",
       "      <td>1.000000e+00</td>\n",
       "      <td>0.0</td>\n",
       "      <td>0.0</td>\n",
       "      <td>0.000000e+00</td>\n",
       "      <td>0.000000e+00</td>\n",
       "    </tr>\n",
       "    <tr>\n",
       "      <th>75%</th>\n",
       "      <td>2.000000e+00</td>\n",
       "      <td>1.000000e+00</td>\n",
       "      <td>0.0</td>\n",
       "      <td>0.0</td>\n",
       "      <td>0.000000e+00</td>\n",
       "      <td>0.000000e+00</td>\n",
       "    </tr>\n",
       "    <tr>\n",
       "      <th>max</th>\n",
       "      <td>7.831000e+03</td>\n",
       "      <td>1.020000e+04</td>\n",
       "      <td>0.0</td>\n",
       "      <td>0.0</td>\n",
       "      <td>1.000000e+01</td>\n",
       "      <td>2.800000e+01</td>\n",
       "    </tr>\n",
       "  </tbody>\n",
       "</table>\n",
       "</div>"
      ],
      "text/plain": [
       "       Fwd PSH Flags  Bwd PSH Flags  Fwd URG Flags  Bwd URG Flags  \\\n",
       "count   3.231475e+06   3.231475e+06      3231475.0      3231475.0   \n",
       "mean    7.533344e+01   7.953056e+01            0.0            0.0   \n",
       "std     4.183171e+02   5.331010e+02            0.0            0.0   \n",
       "min     0.000000e+00   0.000000e+00            0.0            0.0   \n",
       "25%     1.000000e+00   1.000000e+00            0.0            0.0   \n",
       "50%     1.000000e+00   1.000000e+00            0.0            0.0   \n",
       "75%     2.000000e+00   1.000000e+00            0.0            0.0   \n",
       "max     7.831000e+03   1.020000e+04            0.0            0.0   \n",
       "\n",
       "       Fwd RST Flags  Bwd RST Flags  \n",
       "count   3.231475e+06   3.231475e+06  \n",
       "mean    1.665648e-02   7.517310e-03  \n",
       "std     1.581370e-01   1.220052e-01  \n",
       "min     0.000000e+00   0.000000e+00  \n",
       "25%     0.000000e+00   0.000000e+00  \n",
       "50%     0.000000e+00   0.000000e+00  \n",
       "75%     0.000000e+00   0.000000e+00  \n",
       "max     1.000000e+01   2.800000e+01  "
      ]
     },
     "execution_count": 7,
     "metadata": {},
     "output_type": "execute_result"
    }
   ],
   "source": [
    "# Pandas Describe\n",
    "data.describe()"
   ]
  },
  {
   "cell_type": "code",
   "execution_count": 8,
   "metadata": {},
   "outputs": [
    {
     "data": {
      "text/plain": [
       "Fwd PSH Flags    5378\n",
       "Bwd PSH Flags    5852\n",
       "Fwd URG Flags       1\n",
       "Bwd URG Flags       1\n",
       "Fwd RST Flags      11\n",
       "Bwd RST Flags      26\n",
       "dtype: int64"
      ]
     },
     "execution_count": 8,
     "metadata": {},
     "output_type": "execute_result"
    }
   ],
   "source": [
    "# Unique Values \n",
    "data.nunique()"
   ]
  },
  {
   "cell_type": "markdown",
   "metadata": {},
   "source": [
    "> Since, Fwd and Bwd URG Flags only contains 1 value which is 0. This column should be removed! \n",
    "\n",
    "**Note:** Remove the above two columns in data processing stage"
   ]
  },
  {
   "cell_type": "code",
   "execution_count": 10,
   "metadata": {},
   "outputs": [
    {
     "data": {
      "text/plain": [
       "Fwd RST Flags\n",
       "0     3188551\n",
       "1       33085\n",
       "2        9517\n",
       "3         100\n",
       "4          46\n",
       "6          46\n",
       "5          37\n",
       "7          36\n",
       "9          29\n",
       "8          16\n",
       "10         12\n",
       "Name: count, dtype: int64"
      ]
     },
     "execution_count": 10,
     "metadata": {},
     "output_type": "execute_result"
    }
   ],
   "source": [
    "data['Fwd RST Flags'].value_counts()"
   ]
  },
  {
   "cell_type": "code",
   "execution_count": 12,
   "metadata": {},
   "outputs": [
    {
     "data": {
      "text/plain": [
       "Bwd RST Flags\n",
       "0     3210013\n",
       "1       20301\n",
       "2         875\n",
       "3          56\n",
       "5          33\n",
       "4          32\n",
       "6          31\n",
       "7          24\n",
       "8          13\n",
       "9          12\n",
       "11         12\n",
       "13         11\n",
       "12         11\n",
       "10         10\n",
       "14         10\n",
       "18          6\n",
       "17          6\n",
       "16          5\n",
       "15          5\n",
       "20          2\n",
       "21          2\n",
       "26          1\n",
       "28          1\n",
       "24          1\n",
       "23          1\n",
       "19          1\n",
       "Name: count, dtype: int64"
      ]
     },
     "execution_count": 12,
     "metadata": {},
     "output_type": "execute_result"
    }
   ],
   "source": [
    "data['Bwd RST Flags'].value_counts()"
   ]
  },
  {
   "cell_type": "markdown",
   "metadata": {},
   "source": [
    "> Fwd and Bwd RST Flags has high imbalanced data. Use oversampling, under-sampling or class weighting technique to handle it!"
   ]
  }
 ],
 "metadata": {
  "kernelspec": {
   "display_name": "base",
   "language": "python",
   "name": "python3"
  },
  "language_info": {
   "codemirror_mode": {
    "name": "ipython",
    "version": 3
   },
   "file_extension": ".py",
   "mimetype": "text/x-python",
   "name": "python",
   "nbconvert_exporter": "python",
   "pygments_lexer": "ipython3",
   "version": "3.11.5"
  }
 },
 "nbformat": 4,
 "nbformat_minor": 2
}
