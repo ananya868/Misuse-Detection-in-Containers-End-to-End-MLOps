{
 "cells": [
  {
   "cell_type": "markdown",
   "metadata": {},
   "source": [
    "### Summary Statistics\n",
    "\n",
    "Summary statistics provide a concise overview of a dataset's distribution. Here's a breakdown of the commonly calculated metrics:\n",
    "\n",
    "**Central Tendency**\n",
    "- **Mean**: The average value of the dataset. It's calculated by summing all values and dividing by the number of values.\n",
    "- **Median**: The middle value in a dataset when the values are arranged in ascending order. It's a robust measure that's less sensitive to outliers than the mean.\n",
    "- **Mode**: The most frequent value in the dataset. There can be one mode (unimodal), multiple modes (multimodal), or no mode.\n",
    "\n",
    "**Dispersion**\n",
    "- **Standard Deviation**: Measures the spread of the data around the mean. A higher standard deviation indicates greater variability.\n",
    "- **Variance**: The square of the standard deviation.\n",
    "- **Range**: The difference between the maximum and minimum values.\n",
    "- **Interquartile Range (IQR)**: The difference between the 75th percentile (Q3) and the 25th percentile (Q1). It measures the spread of the middle 50% of the data.\n",
    "---"
   ]
  },
  {
   "cell_type": "markdown",
   "metadata": {},
   "source": [
    "**Category Name: Subflow related features, Window size and TCP Flags, Flow Duration and idle time**\n",
    "\n",
    "- Subflow Fwd Packets: The total number of forward packets within the subflow.\n",
    "- Subflow Fwd Bytes: The total number of bytes transferred in the forward direction within the subflow.\n",
    "- Subflow Bwd Packets: The total number of backward packets within the subflow.\n",
    "- Subflow Bwd Bytes: The total number of bytes transferred in the backward direction within the subflow.\n",
    "- FWD Init Win Bytes: The initial window size advertised by the forward flow.\n",
    "- Bwd Init Win Bytes: The initial window size advertised by the backward flow.\n",
    "- Fwd Act Data Pkts: The number of active data packets in the forward direction.\n",
    "- Active Mean, Std, Max, Min: The mean, standard deviation, maximum, and minimum active times for the flow.\n",
    "- Idle Mean, Std, Max, Min: The mean, standard deviation, maximum, and minimum idle times for the flow.\n",
    "- Total TCP Flow Time: The total duration of the TCP flow.\n"
   ]
  },
  {
   "cell_type": "code",
   "execution_count": 1,
   "metadata": {},
   "outputs": [],
   "source": [
    "# Importing important libraries \n",
    "import pandas as pd \n",
    "import numpy as np\n",
    "import matplotlib.pyplot as plt\n",
    "import seaborn as sns\n",
    "import os \n",
    "import json "
   ]
  },
  {
   "cell_type": "code",
   "execution_count": 2,
   "metadata": {},
   "outputs": [],
   "source": [
    "# Functions \n",
    "# Update this code block to add more functions as per need\n",
    "def read_data(data_path: str, usecols: list) -> pd.DataFrame:\n",
    "    \"\"\"\n",
    "    This function reads the data from the data path\n",
    "    \"\"\"\n",
    "    data = pd.read_csv(data_path, usecols=usecols)\n",
    "    return data"
   ]
  },
  {
   "cell_type": "markdown",
   "metadata": {},
   "source": [
    "**Data**"
   ]
  },
  {
   "cell_type": "code",
   "execution_count": 3,
   "metadata": {},
   "outputs": [
    {
     "name": "stdout",
     "output_type": "stream",
     "text": [
      "Successfully read 17 features\n"
     ]
    }
   ],
   "source": [
    "# Read data from filepath \n",
    "# This file path is for temporary usage (For EDA)\n",
    "# It will be removed once the task is completed \n",
    "\n",
    "file_path = \"dataset.csv\"\n",
    "# Columns in this category\n",
    "columns_to_read = ['Subflow Fwd Packets', 'Subflow Fwd Bytes', 'Subflow Bwd Packets',\n",
    "       'Subflow Bwd Bytes', 'FWD Init Win Bytes', 'Bwd Init Win Bytes',\n",
    "       'Fwd Act Data Pkts', 'Fwd Seg Size Min', 'Active Mean', 'Active Std',\n",
    "       'Active Max', 'Active Min', 'Idle Mean', 'Idle Std', 'Idle Max',\n",
    "       'Idle Min', 'Total TCP Flow Time']\n",
    "\n",
    "# Read the data\n",
    "try:\n",
    "    data = read_data(file_path, usecols = columns_to_read)\n",
    "    print(f\"Successfully read {len(data.columns)} features\")\n",
    "except:\n",
    "    print(\"File not found!\")\n",
    "    print(\"[INFO] Please place the dataset.csv in the directory for use!\")"
   ]
  },
  {
   "cell_type": "markdown",
   "metadata": {},
   "source": [
    "**Analysis**"
   ]
  },
  {
   "cell_type": "code",
   "execution_count": 4,
   "metadata": {},
   "outputs": [
    {
     "data": {
      "text/html": [
       "<div>\n",
       "<style scoped>\n",
       "    .dataframe tbody tr th:only-of-type {\n",
       "        vertical-align: middle;\n",
       "    }\n",
       "\n",
       "    .dataframe tbody tr th {\n",
       "        vertical-align: top;\n",
       "    }\n",
       "\n",
       "    .dataframe thead th {\n",
       "        text-align: right;\n",
       "    }\n",
       "</style>\n",
       "<table border=\"1\" class=\"dataframe\">\n",
       "  <thead>\n",
       "    <tr style=\"text-align: right;\">\n",
       "      <th></th>\n",
       "      <th>Subflow Fwd Packets</th>\n",
       "      <th>Subflow Fwd Bytes</th>\n",
       "      <th>Subflow Bwd Packets</th>\n",
       "      <th>Subflow Bwd Bytes</th>\n",
       "      <th>FWD Init Win Bytes</th>\n",
       "      <th>Bwd Init Win Bytes</th>\n",
       "      <th>Fwd Act Data Pkts</th>\n",
       "      <th>Fwd Seg Size Min</th>\n",
       "      <th>Active Mean</th>\n",
       "      <th>Active Std</th>\n",
       "      <th>Active Max</th>\n",
       "      <th>Active Min</th>\n",
       "      <th>Idle Mean</th>\n",
       "      <th>Idle Std</th>\n",
       "      <th>Idle Max</th>\n",
       "      <th>Idle Min</th>\n",
       "      <th>Total TCP Flow Time</th>\n",
       "    </tr>\n",
       "  </thead>\n",
       "  <tbody>\n",
       "    <tr>\n",
       "      <th>count</th>\n",
       "      <td>3.231475e+06</td>\n",
       "      <td>3.231475e+06</td>\n",
       "      <td>3.231475e+06</td>\n",
       "      <td>3.231475e+06</td>\n",
       "      <td>3.231475e+06</td>\n",
       "      <td>3.231475e+06</td>\n",
       "      <td>3.231475e+06</td>\n",
       "      <td>3.231475e+06</td>\n",
       "      <td>3.231475e+06</td>\n",
       "      <td>3.231475e+06</td>\n",
       "      <td>3.231475e+06</td>\n",
       "      <td>3.231475e+06</td>\n",
       "      <td>3.231475e+06</td>\n",
       "      <td>3.231475e+06</td>\n",
       "      <td>3.231475e+06</td>\n",
       "      <td>3.231475e+06</td>\n",
       "      <td>3.231475e+06</td>\n",
       "    </tr>\n",
       "    <tr>\n",
       "      <th>mean</th>\n",
       "      <td>8.419746e-02</td>\n",
       "      <td>1.090405e+02</td>\n",
       "      <td>4.518061e-05</td>\n",
       "      <td>1.064850e+02</td>\n",
       "      <td>6.023249e+04</td>\n",
       "      <td>4.957609e+02</td>\n",
       "      <td>7.550082e+01</td>\n",
       "      <td>3.164003e+01</td>\n",
       "      <td>2.437296e+05</td>\n",
       "      <td>1.734073e+05</td>\n",
       "      <td>4.792189e+05</td>\n",
       "      <td>1.168187e+05</td>\n",
       "      <td>6.715270e+05</td>\n",
       "      <td>1.259603e+05</td>\n",
       "      <td>8.242769e+05</td>\n",
       "      <td>5.529524e+05</td>\n",
       "      <td>7.186553e+07</td>\n",
       "    </tr>\n",
       "    <tr>\n",
       "      <th>std</th>\n",
       "      <td>2.776838e-01</td>\n",
       "      <td>2.147488e+02</td>\n",
       "      <td>6.721501e-03</td>\n",
       "      <td>5.991156e+02</td>\n",
       "      <td>1.583170e+04</td>\n",
       "      <td>8.530959e+02</td>\n",
       "      <td>4.182399e+02</td>\n",
       "      <td>5.804100e+00</td>\n",
       "      <td>2.654499e+06</td>\n",
       "      <td>1.768455e+06</td>\n",
       "      <td>4.228964e+06</td>\n",
       "      <td>2.195276e+06</td>\n",
       "      <td>5.274227e+06</td>\n",
       "      <td>1.262020e+06</td>\n",
       "      <td>5.958127e+06</td>\n",
       "      <td>4.972078e+06</td>\n",
       "      <td>1.686803e+09</td>\n",
       "    </tr>\n",
       "    <tr>\n",
       "      <th>min</th>\n",
       "      <td>0.000000e+00</td>\n",
       "      <td>0.000000e+00</td>\n",
       "      <td>0.000000e+00</td>\n",
       "      <td>0.000000e+00</td>\n",
       "      <td>0.000000e+00</td>\n",
       "      <td>0.000000e+00</td>\n",
       "      <td>0.000000e+00</td>\n",
       "      <td>0.000000e+00</td>\n",
       "      <td>0.000000e+00</td>\n",
       "      <td>0.000000e+00</td>\n",
       "      <td>0.000000e+00</td>\n",
       "      <td>0.000000e+00</td>\n",
       "      <td>0.000000e+00</td>\n",
       "      <td>0.000000e+00</td>\n",
       "      <td>0.000000e+00</td>\n",
       "      <td>0.000000e+00</td>\n",
       "      <td>0.000000e+00</td>\n",
       "    </tr>\n",
       "    <tr>\n",
       "      <th>25%</th>\n",
       "      <td>0.000000e+00</td>\n",
       "      <td>3.300000e+01</td>\n",
       "      <td>0.000000e+00</td>\n",
       "      <td>1.300000e+01</td>\n",
       "      <td>6.424000e+04</td>\n",
       "      <td>5.020000e+02</td>\n",
       "      <td>1.000000e+00</td>\n",
       "      <td>3.200000e+01</td>\n",
       "      <td>0.000000e+00</td>\n",
       "      <td>0.000000e+00</td>\n",
       "      <td>0.000000e+00</td>\n",
       "      <td>0.000000e+00</td>\n",
       "      <td>0.000000e+00</td>\n",
       "      <td>0.000000e+00</td>\n",
       "      <td>0.000000e+00</td>\n",
       "      <td>0.000000e+00</td>\n",
       "      <td>6.991000e+03</td>\n",
       "    </tr>\n",
       "    <tr>\n",
       "      <th>50%</th>\n",
       "      <td>0.000000e+00</td>\n",
       "      <td>4.700000e+01</td>\n",
       "      <td>0.000000e+00</td>\n",
       "      <td>3.200000e+01</td>\n",
       "      <td>6.424000e+04</td>\n",
       "      <td>5.020000e+02</td>\n",
       "      <td>1.000000e+00</td>\n",
       "      <td>3.200000e+01</td>\n",
       "      <td>0.000000e+00</td>\n",
       "      <td>0.000000e+00</td>\n",
       "      <td>0.000000e+00</td>\n",
       "      <td>0.000000e+00</td>\n",
       "      <td>0.000000e+00</td>\n",
       "      <td>0.000000e+00</td>\n",
       "      <td>0.000000e+00</td>\n",
       "      <td>0.000000e+00</td>\n",
       "      <td>3.671400e+04</td>\n",
       "    </tr>\n",
       "    <tr>\n",
       "      <th>75%</th>\n",
       "      <td>0.000000e+00</td>\n",
       "      <td>7.900000e+01</td>\n",
       "      <td>0.000000e+00</td>\n",
       "      <td>3.500000e+01</td>\n",
       "      <td>6.424000e+04</td>\n",
       "      <td>5.020000e+02</td>\n",
       "      <td>2.000000e+00</td>\n",
       "      <td>3.200000e+01</td>\n",
       "      <td>0.000000e+00</td>\n",
       "      <td>0.000000e+00</td>\n",
       "      <td>0.000000e+00</td>\n",
       "      <td>0.000000e+00</td>\n",
       "      <td>0.000000e+00</td>\n",
       "      <td>0.000000e+00</td>\n",
       "      <td>0.000000e+00</td>\n",
       "      <td>0.000000e+00</td>\n",
       "      <td>1.232845e+05</td>\n",
       "    </tr>\n",
       "    <tr>\n",
       "      <th>max</th>\n",
       "      <td>1.000000e+00</td>\n",
       "      <td>1.054700e+04</td>\n",
       "      <td>1.000000e+00</td>\n",
       "      <td>1.813700e+04</td>\n",
       "      <td>6.549500e+04</td>\n",
       "      <td>6.470400e+04</td>\n",
       "      <td>7.830000e+03</td>\n",
       "      <td>4.000000e+01</td>\n",
       "      <td>1.148279e+08</td>\n",
       "      <td>7.718153e+07</td>\n",
       "      <td>1.148279e+08</td>\n",
       "      <td>1.148279e+08</td>\n",
       "      <td>1.199621e+08</td>\n",
       "      <td>7.711554e+07</td>\n",
       "      <td>1.199621e+08</td>\n",
       "      <td>1.199621e+08</td>\n",
       "      <td>8.638926e+10</td>\n",
       "    </tr>\n",
       "  </tbody>\n",
       "</table>\n",
       "</div>"
      ],
      "text/plain": [
       "       Subflow Fwd Packets  Subflow Fwd Bytes  Subflow Bwd Packets  \\\n",
       "count         3.231475e+06       3.231475e+06         3.231475e+06   \n",
       "mean          8.419746e-02       1.090405e+02         4.518061e-05   \n",
       "std           2.776838e-01       2.147488e+02         6.721501e-03   \n",
       "min           0.000000e+00       0.000000e+00         0.000000e+00   \n",
       "25%           0.000000e+00       3.300000e+01         0.000000e+00   \n",
       "50%           0.000000e+00       4.700000e+01         0.000000e+00   \n",
       "75%           0.000000e+00       7.900000e+01         0.000000e+00   \n",
       "max           1.000000e+00       1.054700e+04         1.000000e+00   \n",
       "\n",
       "       Subflow Bwd Bytes  FWD Init Win Bytes  Bwd Init Win Bytes  \\\n",
       "count       3.231475e+06        3.231475e+06        3.231475e+06   \n",
       "mean        1.064850e+02        6.023249e+04        4.957609e+02   \n",
       "std         5.991156e+02        1.583170e+04        8.530959e+02   \n",
       "min         0.000000e+00        0.000000e+00        0.000000e+00   \n",
       "25%         1.300000e+01        6.424000e+04        5.020000e+02   \n",
       "50%         3.200000e+01        6.424000e+04        5.020000e+02   \n",
       "75%         3.500000e+01        6.424000e+04        5.020000e+02   \n",
       "max         1.813700e+04        6.549500e+04        6.470400e+04   \n",
       "\n",
       "       Fwd Act Data Pkts  Fwd Seg Size Min   Active Mean    Active Std  \\\n",
       "count       3.231475e+06      3.231475e+06  3.231475e+06  3.231475e+06   \n",
       "mean        7.550082e+01      3.164003e+01  2.437296e+05  1.734073e+05   \n",
       "std         4.182399e+02      5.804100e+00  2.654499e+06  1.768455e+06   \n",
       "min         0.000000e+00      0.000000e+00  0.000000e+00  0.000000e+00   \n",
       "25%         1.000000e+00      3.200000e+01  0.000000e+00  0.000000e+00   \n",
       "50%         1.000000e+00      3.200000e+01  0.000000e+00  0.000000e+00   \n",
       "75%         2.000000e+00      3.200000e+01  0.000000e+00  0.000000e+00   \n",
       "max         7.830000e+03      4.000000e+01  1.148279e+08  7.718153e+07   \n",
       "\n",
       "         Active Max    Active Min     Idle Mean      Idle Std      Idle Max  \\\n",
       "count  3.231475e+06  3.231475e+06  3.231475e+06  3.231475e+06  3.231475e+06   \n",
       "mean   4.792189e+05  1.168187e+05  6.715270e+05  1.259603e+05  8.242769e+05   \n",
       "std    4.228964e+06  2.195276e+06  5.274227e+06  1.262020e+06  5.958127e+06   \n",
       "min    0.000000e+00  0.000000e+00  0.000000e+00  0.000000e+00  0.000000e+00   \n",
       "25%    0.000000e+00  0.000000e+00  0.000000e+00  0.000000e+00  0.000000e+00   \n",
       "50%    0.000000e+00  0.000000e+00  0.000000e+00  0.000000e+00  0.000000e+00   \n",
       "75%    0.000000e+00  0.000000e+00  0.000000e+00  0.000000e+00  0.000000e+00   \n",
       "max    1.148279e+08  1.148279e+08  1.199621e+08  7.711554e+07  1.199621e+08   \n",
       "\n",
       "           Idle Min  Total TCP Flow Time  \n",
       "count  3.231475e+06         3.231475e+06  \n",
       "mean   5.529524e+05         7.186553e+07  \n",
       "std    4.972078e+06         1.686803e+09  \n",
       "min    0.000000e+00         0.000000e+00  \n",
       "25%    0.000000e+00         6.991000e+03  \n",
       "50%    0.000000e+00         3.671400e+04  \n",
       "75%    0.000000e+00         1.232845e+05  \n",
       "max    1.199621e+08         8.638926e+10  "
      ]
     },
     "execution_count": 4,
     "metadata": {},
     "output_type": "execute_result"
    }
   ],
   "source": [
    "# Describe\n",
    "data.describe()"
   ]
  },
  {
   "cell_type": "code",
   "execution_count": 5,
   "metadata": {},
   "outputs": [
    {
     "data": {
      "text/plain": [
       "Subflow Fwd Packets         2\n",
       "Subflow Fwd Bytes        3036\n",
       "Subflow Bwd Packets         2\n",
       "Subflow Bwd Bytes        1796\n",
       "FWD Init Win Bytes       1976\n",
       "Bwd Init Win Bytes       4781\n",
       "Fwd Act Data Pkts        5371\n",
       "Fwd Seg Size Min            5\n",
       "Active Mean            106109\n",
       "Active Std              74852\n",
       "Active Max             100615\n",
       "Active Min              53851\n",
       "Idle Mean              116004\n",
       "Idle Std                78592\n",
       "Idle Max               109211\n",
       "Idle Min               102036\n",
       "Total TCP Flow Time    629615\n",
       "dtype: int64"
      ]
     },
     "execution_count": 5,
     "metadata": {},
     "output_type": "execute_result"
    }
   ],
   "source": [
    "# unique \n",
    "data.nunique()"
   ]
  },
  {
   "cell_type": "code",
   "execution_count": 6,
   "metadata": {},
   "outputs": [
    {
     "data": {
      "text/plain": [
       "Subflow Bwd Packets\n",
       "0    3231329\n",
       "1        146\n",
       "Name: count, dtype: int64"
      ]
     },
     "execution_count": 6,
     "metadata": {},
     "output_type": "execute_result"
    }
   ],
   "source": [
    "data['Subflow Bwd Packets'].value_counts()"
   ]
  },
  {
   "cell_type": "markdown",
   "metadata": {},
   "source": [
    "> Subflow bwd packets has most values as 0 indicating there are close to none bwd packets within the subflow"
   ]
  },
  {
   "cell_type": "code",
   "execution_count": 8,
   "metadata": {},
   "outputs": [
    {
     "data": {
      "text/plain": [
       "Subflow Fwd Packets\n",
       "0    2959393\n",
       "1     272082\n",
       "Name: count, dtype: int64"
      ]
     },
     "execution_count": 8,
     "metadata": {},
     "output_type": "execute_result"
    }
   ],
   "source": [
    "data['Subflow Fwd Packets'].value_counts()"
   ]
  },
  {
   "cell_type": "markdown",
   "metadata": {},
   "source": [
    "> This shows that there are some subflow packets in Fwd subflow."
   ]
  },
  {
   "cell_type": "code",
   "execution_count": 10,
   "metadata": {},
   "outputs": [
    {
     "data": {
      "text/plain": [
       "Fwd Seg Size Min\n",
       "32    2827826\n",
       "40     274014\n",
       "8       63671\n",
       "0       51783\n",
       "20      14181\n",
       "Name: count, dtype: int64"
      ]
     },
     "execution_count": 10,
     "metadata": {},
     "output_type": "execute_result"
    }
   ],
   "source": [
    "data['Fwd Seg Size Min'].value_counts()"
   ]
  },
  {
   "cell_type": "code",
   "execution_count": 13,
   "metadata": {},
   "outputs": [
    {
     "data": {
      "text/plain": [
       "FWD Init Win Bytes\n",
       "64240    2488326\n",
       "65280     531312\n",
       "0         127569\n",
       "502        19938\n",
       "501        14967\n",
       "          ...   \n",
       "11695          1\n",
       "7746           1\n",
       "7781           1\n",
       "6500           1\n",
       "9233           1\n",
       "Name: count, Length: 1976, dtype: int64"
      ]
     },
     "execution_count": 13,
     "metadata": {},
     "output_type": "execute_result"
    }
   ],
   "source": [
    "data['FWD Init Win Bytes'].value_counts()"
   ]
  },
  {
   "cell_type": "markdown",
   "metadata": {},
   "source": [
    "> 64240 is the most used window size advertised in the forward flow"
   ]
  },
  {
   "cell_type": "code",
   "execution_count": 15,
   "metadata": {},
   "outputs": [
    {
     "data": {
      "text/plain": [
       "Active Mean\n",
       "0.0           3114433\n",
       "31.0              112\n",
       "27.0              110\n",
       "33.0              102\n",
       "25.0               96\n",
       "               ...   \n",
       "14862866.0          1\n",
       "13479777.6          1\n",
       "16929474.0          1\n",
       "12551961.0          1\n",
       "22329.5             1\n",
       "Name: count, Length: 106109, dtype: int64"
      ]
     },
     "execution_count": 15,
     "metadata": {},
     "output_type": "execute_result"
    }
   ],
   "source": [
    "data['Active Mean'].value_counts()"
   ]
  },
  {
   "cell_type": "code",
   "execution_count": 16,
   "metadata": {},
   "outputs": [
    {
     "data": {
      "text/plain": [
       "Idle Mean\n",
       "0.000000e+00    3113423\n",
       "1.100796e+07          8\n",
       "1.100796e+07          8\n",
       "1.075196e+07          8\n",
       "1.177596e+07          8\n",
       "                 ...   \n",
       "6.857778e+06          1\n",
       "7.115686e+06          1\n",
       "6.289454e+06          1\n",
       "6.151582e+06          1\n",
       "2.686503e+07          1\n",
       "Name: count, Length: 116004, dtype: int64"
      ]
     },
     "execution_count": 16,
     "metadata": {},
     "output_type": "execute_result"
    }
   ],
   "source": [
    "data['Idle Mean'].value_counts()"
   ]
  },
  {
   "cell_type": "markdown",
   "metadata": {},
   "source": [
    "> Active and idle mean are mostly 0."
   ]
  }
 ],
 "metadata": {
  "kernelspec": {
   "display_name": "base",
   "language": "python",
   "name": "python3"
  },
  "language_info": {
   "codemirror_mode": {
    "name": "ipython",
    "version": 3
   },
   "file_extension": ".py",
   "mimetype": "text/x-python",
   "name": "python",
   "nbconvert_exporter": "python",
   "pygments_lexer": "ipython3",
   "version": "3.11.5"
  }
 },
 "nbformat": 4,
 "nbformat_minor": 2
}
