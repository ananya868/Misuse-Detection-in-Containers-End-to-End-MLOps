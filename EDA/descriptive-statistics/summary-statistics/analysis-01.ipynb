{
 "cells": [
  {
   "cell_type": "markdown",
   "metadata": {},
   "source": [
    "### Summary Statistics\n",
    "\n",
    "Summary statistics provide a concise overview of a dataset's distribution. Here's a breakdown of the commonly calculated metrics:\n",
    "\n",
    "**Central Tendency**\n",
    "- **Mean**: The average value of the dataset. It's calculated by summing all values and dividing by the number of values.\n",
    "- **Median**: The middle value in a dataset when the values are arranged in ascending order. It's a robust measure that's less sensitive to outliers than the mean.\n",
    "- **Mode**: The most frequent value in the dataset. There can be one mode (unimodal), multiple modes (multimodal), or no mode.\n",
    "\n",
    "**Dispersion**\n",
    "- **Standard Deviation**: Measures the spread of the data around the mean. A higher standard deviation indicates greater variability.\n",
    "- **Variance**: The square of the standard deviation.\n",
    "- **Range**: The difference between the maximum and minimum values.\n",
    "- **Interquartile Range (IQR)**: The difference between the 75th percentile (Q3) and the 25th percentile (Q1). It measures the spread of the middle 50% of the data.\n",
    "---"
   ]
  },
  {
   "cell_type": "markdown",
   "metadata": {},
   "source": [
    "**Category Name: Basic Flow Information**\n",
    "\n",
    "These are the features we will process in this notebook:\n",
    "- Flow ID: A unique identifier for a network flow.\n",
    "- Src IP: Source IP address of the flow.\n",
    "- Src Port: Source port number of the flow.\n",
    "- Dst IP: Destination IP address of the flow.\n",
    "- Dst Port: Destination port number of the flow.\n",
    "- Protocol: The network protocol used (e.g., TCP, UDP, ICMP).\n",
    "- Timestamp: The timestamp when the flow started."
   ]
  },
  {
   "cell_type": "code",
   "execution_count": 1,
   "metadata": {},
   "outputs": [],
   "source": [
    "# Importing important libraries \n",
    "import pandas as pd \n",
    "import numpy as np\n",
    "import matplotlib.pyplot as plt\n",
    "import seaborn as sns\n",
    "import os \n",
    "import json "
   ]
  },
  {
   "cell_type": "code",
   "execution_count": 2,
   "metadata": {},
   "outputs": [],
   "source": [
    "# Functions \n",
    "# Update this code block to add more functions as per need\n",
    "def read_data(data_path: str, usecols: list) -> pd.DataFrame:\n",
    "    \"\"\"\n",
    "    This function reads the data from the data path\n",
    "    \"\"\"\n",
    "    data = pd.read_csv(data_path, usecols=usecols)\n",
    "    return data"
   ]
  },
  {
   "cell_type": "markdown",
   "metadata": {},
   "source": [
    "**Data**"
   ]
  },
  {
   "cell_type": "code",
   "execution_count": 3,
   "metadata": {},
   "outputs": [
    {
     "name": "stdout",
     "output_type": "stream",
     "text": [
      "Successfully read 7 features\n"
     ]
    }
   ],
   "source": [
    "# Read data from filepath \n",
    "# This file path is for temporary usage (For EDA)\n",
    "# It will be removed once the task is completed \n",
    "\n",
    "file_path = \"dataset.csv\"\n",
    "# Columns in this category\n",
    "columns_to_read = ['Flow ID', 'Src IP', 'Src Port', 'Dst IP', 'Dst Port', 'Protocol', 'Timestamp']\n",
    "\n",
    "# Read the data\n",
    "try:\n",
    "    data = read_data(file_path, usecols = columns_to_read)\n",
    "    print(f\"Successfully read {len(data.columns)} features\")\n",
    "except:\n",
    "    print(\"File not found!\")\n",
    "    print(\"[INFO] Please place the dataset.csv in the directory for use!\")"
   ]
  },
  {
   "cell_type": "markdown",
   "metadata": {},
   "source": [
    "**Analysis**"
   ]
  },
  {
   "cell_type": "code",
   "execution_count": 4,
   "metadata": {},
   "outputs": [
    {
     "data": {
      "text/html": [
       "<div>\n",
       "<style scoped>\n",
       "    .dataframe tbody tr th:only-of-type {\n",
       "        vertical-align: middle;\n",
       "    }\n",
       "\n",
       "    .dataframe tbody tr th {\n",
       "        vertical-align: top;\n",
       "    }\n",
       "\n",
       "    .dataframe thead th {\n",
       "        text-align: right;\n",
       "    }\n",
       "</style>\n",
       "<table border=\"1\" class=\"dataframe\">\n",
       "  <thead>\n",
       "    <tr style=\"text-align: right;\">\n",
       "      <th></th>\n",
       "      <th>Src Port</th>\n",
       "      <th>Dst Port</th>\n",
       "      <th>Protocol</th>\n",
       "    </tr>\n",
       "  </thead>\n",
       "  <tbody>\n",
       "    <tr>\n",
       "      <th>count</th>\n",
       "      <td>3.231475e+06</td>\n",
       "      <td>3.231475e+06</td>\n",
       "      <td>3.231475e+06</td>\n",
       "    </tr>\n",
       "    <tr>\n",
       "      <th>mean</th>\n",
       "      <td>3.795397e+04</td>\n",
       "      <td>7.856463e+03</td>\n",
       "      <td>6.202331e+00</td>\n",
       "    </tr>\n",
       "    <tr>\n",
       "      <th>std</th>\n",
       "      <td>1.731281e+04</td>\n",
       "      <td>4.032255e+03</td>\n",
       "      <td>1.558721e+00</td>\n",
       "    </tr>\n",
       "    <tr>\n",
       "      <th>min</th>\n",
       "      <td>0.000000e+00</td>\n",
       "      <td>0.000000e+00</td>\n",
       "      <td>0.000000e+00</td>\n",
       "    </tr>\n",
       "    <tr>\n",
       "      <th>25%</th>\n",
       "      <td>2.592100e+04</td>\n",
       "      <td>8.080000e+03</td>\n",
       "      <td>6.000000e+00</td>\n",
       "    </tr>\n",
       "    <tr>\n",
       "      <th>50%</th>\n",
       "      <td>4.098100e+04</td>\n",
       "      <td>8.080000e+03</td>\n",
       "      <td>6.000000e+00</td>\n",
       "    </tr>\n",
       "    <tr>\n",
       "      <th>75%</th>\n",
       "      <td>5.201400e+04</td>\n",
       "      <td>8.080000e+03</td>\n",
       "      <td>6.000000e+00</td>\n",
       "    </tr>\n",
       "    <tr>\n",
       "      <th>max</th>\n",
       "      <td>6.553500e+04</td>\n",
       "      <td>6.538700e+04</td>\n",
       "      <td>1.700000e+01</td>\n",
       "    </tr>\n",
       "  </tbody>\n",
       "</table>\n",
       "</div>"
      ],
      "text/plain": [
       "           Src Port      Dst Port      Protocol\n",
       "count  3.231475e+06  3.231475e+06  3.231475e+06\n",
       "mean   3.795397e+04  7.856463e+03  6.202331e+00\n",
       "std    1.731281e+04  4.032255e+03  1.558721e+00\n",
       "min    0.000000e+00  0.000000e+00  0.000000e+00\n",
       "25%    2.592100e+04  8.080000e+03  6.000000e+00\n",
       "50%    4.098100e+04  8.080000e+03  6.000000e+00\n",
       "75%    5.201400e+04  8.080000e+03  6.000000e+00\n",
       "max    6.553500e+04  6.538700e+04  1.700000e+01"
      ]
     },
     "execution_count": 4,
     "metadata": {},
     "output_type": "execute_result"
    }
   ],
   "source": [
    "# Pandas Describe function\n",
    "data.describe()"
   ]
  },
  {
   "cell_type": "code",
   "execution_count": 5,
   "metadata": {},
   "outputs": [
    {
     "data": {
      "text/plain": [
       "Index(['Flow ID', 'Src IP', 'Src Port', 'Dst IP', 'Dst Port', 'Protocol',\n",
       "       'Timestamp'],\n",
       "      dtype='object')"
      ]
     },
     "execution_count": 5,
     "metadata": {},
     "output_type": "execute_result"
    }
   ],
   "source": [
    "data.columns"
   ]
  },
  {
   "cell_type": "code",
   "execution_count": 13,
   "metadata": {},
   "outputs": [
    {
     "name": "stdout",
     "output_type": "stream",
     "text": [
      "There are 345418 unique values in the column Flow ID\n",
      "There are 4253 unique values in the column Src IP\n",
      "There are 64514 unique values in the column Src Port\n",
      "There are 4282 unique values in the column Dst IP\n",
      "There are 4755 unique values in the column Dst Port\n",
      "There are 3 unique values in the column Protocol\n",
      "There are 3206589 unique values in the column Timestamp\n"
     ]
    }
   ],
   "source": [
    "# Lets have a look at the non-numerical columns \n",
    "# Flow ID, Src IP, Dst IP, Timestamp \n",
    "\n",
    "# Unique Values \n",
    "for i in data.columns:\n",
    "    print(f\"There are {len(data[i].unique())} unique values in the column {i}\")"
   ]
  },
  {
   "cell_type": "markdown",
   "metadata": {},
   "source": [
    "> Flow ID: Unique identifier of the network flow, there are approx 3.5 lakhs unique data instances of this feature, indicating that there are multiple data points for the same flow id! This column is object type and needs to be encoded for further use! \n",
    "\n",
    "> Src IP: Unique IP addresses of the source. There are only 4.2k (approx) unique values. Ideally, the range of source and destination ips should be close! This column is object type and need to be treated!\n",
    "\n",
    "> Dst IP: Unique IP addresses of the destination. There are only 4.2k (approx) unique values, similar to Src IP! This column is object type and need to be treated!\n",
    "\n",
    "> Timestamp: This is the column which specifies the date and the exact time when the flow started. This column can be processed to separate the date and time for further use! "
   ]
  },
  {
   "cell_type": "code",
   "execution_count": 19,
   "metadata": {},
   "outputs": [
    {
     "data": {
      "text/html": [
       "<div>\n",
       "<style scoped>\n",
       "    .dataframe tbody tr th:only-of-type {\n",
       "        vertical-align: middle;\n",
       "    }\n",
       "\n",
       "    .dataframe tbody tr th {\n",
       "        vertical-align: top;\n",
       "    }\n",
       "\n",
       "    .dataframe thead th {\n",
       "        text-align: right;\n",
       "    }\n",
       "</style>\n",
       "<table border=\"1\" class=\"dataframe\">\n",
       "  <thead>\n",
       "    <tr style=\"text-align: right;\">\n",
       "      <th></th>\n",
       "      <th>Src Port</th>\n",
       "      <th>Dst Port</th>\n",
       "      <th>Protocol</th>\n",
       "    </tr>\n",
       "  </thead>\n",
       "  <tbody>\n",
       "    <tr>\n",
       "      <th>count</th>\n",
       "      <td>3.231475e+06</td>\n",
       "      <td>3.231475e+06</td>\n",
       "      <td>3.231475e+06</td>\n",
       "    </tr>\n",
       "    <tr>\n",
       "      <th>mean</th>\n",
       "      <td>3.795397e+04</td>\n",
       "      <td>7.856463e+03</td>\n",
       "      <td>6.202331e+00</td>\n",
       "    </tr>\n",
       "    <tr>\n",
       "      <th>std</th>\n",
       "      <td>1.731281e+04</td>\n",
       "      <td>4.032255e+03</td>\n",
       "      <td>1.558721e+00</td>\n",
       "    </tr>\n",
       "    <tr>\n",
       "      <th>min</th>\n",
       "      <td>0.000000e+00</td>\n",
       "      <td>0.000000e+00</td>\n",
       "      <td>0.000000e+00</td>\n",
       "    </tr>\n",
       "    <tr>\n",
       "      <th>25%</th>\n",
       "      <td>2.592100e+04</td>\n",
       "      <td>8.080000e+03</td>\n",
       "      <td>6.000000e+00</td>\n",
       "    </tr>\n",
       "    <tr>\n",
       "      <th>50%</th>\n",
       "      <td>4.098100e+04</td>\n",
       "      <td>8.080000e+03</td>\n",
       "      <td>6.000000e+00</td>\n",
       "    </tr>\n",
       "    <tr>\n",
       "      <th>75%</th>\n",
       "      <td>5.201400e+04</td>\n",
       "      <td>8.080000e+03</td>\n",
       "      <td>6.000000e+00</td>\n",
       "    </tr>\n",
       "    <tr>\n",
       "      <th>max</th>\n",
       "      <td>6.553500e+04</td>\n",
       "      <td>6.538700e+04</td>\n",
       "      <td>1.700000e+01</td>\n",
       "    </tr>\n",
       "  </tbody>\n",
       "</table>\n",
       "</div>"
      ],
      "text/plain": [
       "           Src Port      Dst Port      Protocol\n",
       "count  3.231475e+06  3.231475e+06  3.231475e+06\n",
       "mean   3.795397e+04  7.856463e+03  6.202331e+00\n",
       "std    1.731281e+04  4.032255e+03  1.558721e+00\n",
       "min    0.000000e+00  0.000000e+00  0.000000e+00\n",
       "25%    2.592100e+04  8.080000e+03  6.000000e+00\n",
       "50%    4.098100e+04  8.080000e+03  6.000000e+00\n",
       "75%    5.201400e+04  8.080000e+03  6.000000e+00\n",
       "max    6.553500e+04  6.538700e+04  1.700000e+01"
      ]
     },
     "execution_count": 19,
     "metadata": {},
     "output_type": "execute_result"
    }
   ],
   "source": [
    "# Describe\n",
    "data.describe()"
   ]
  },
  {
   "cell_type": "markdown",
   "metadata": {},
   "source": [
    "> Src Port: Source Port number of the flow. Ranges from 0 to 65k (approx). May need to be scaled (to be decided later). \n",
    "\n",
    "> Dst Port: Destination Port number of the flow. Ranges from 0 to 65k (approx) as well. May need to be scaled.\n",
    "\n",
    "> Protocol: Type of network protocol. "
   ]
  },
  {
   "cell_type": "code",
   "execution_count": 22,
   "metadata": {},
   "outputs": [
    {
     "data": {
      "text/plain": [
       "Protocol\n",
       "6     3160045\n",
       "17      63671\n",
       "0        7759\n",
       "Name: count, dtype: int64"
      ]
     },
     "execution_count": 22,
     "metadata": {},
     "output_type": "execute_result"
    }
   ],
   "source": [
    "\"\"\"Protocol Column \"\"\"\n",
    "# The type of network protocol used \n",
    "\n",
    "# 0 means HOPOPT \n",
    "# 6 means TCP \n",
    "# 17 means UDP\n",
    "\n",
    "# Analysis\n",
    "data['Protocol'].value_counts()"
   ]
  },
  {
   "cell_type": "markdown",
   "metadata": {},
   "source": [
    "> It is observed that the TCP is the most used network protocol! This column is **Highly imbalanced** and may need to be treated! Higher weights to minority classes can be used, etc."
   ]
  },
  {
   "cell_type": "code",
   "execution_count": null,
   "metadata": {},
   "outputs": [],
   "source": []
  }
 ],
 "metadata": {
  "kernelspec": {
   "display_name": "base",
   "language": "python",
   "name": "python3"
  },
  "language_info": {
   "codemirror_mode": {
    "name": "ipython",
    "version": 3
   },
   "file_extension": ".py",
   "mimetype": "text/x-python",
   "name": "python",
   "nbconvert_exporter": "python",
   "pygments_lexer": "ipython3",
   "version": "3.11.5"
  }
 },
 "nbformat": 4,
 "nbformat_minor": 2
}
