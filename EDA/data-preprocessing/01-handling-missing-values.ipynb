{
 "cells": [
  {
   "cell_type": "markdown",
   "metadata": {},
   "source": [
    "## **Handling Missing Values**\n",
    "\n",
    "Handling missing values in a dataset is crucial because ignoring them can lead to biased and unreliable results in data analysis and machine learning models\n",
    "\n",
    " **Method:**\n",
    "- We might have to look for patterns in missing data for specific missing patterns \n",
    "- We ll handle the missing values either by imputation or simply dropping the specific rows"
   ]
  },
  {
   "cell_type": "code",
   "execution_count": 1,
   "metadata": {},
   "outputs": [],
   "source": [
    "import pandas as pd\n",
    "import seaborn as sns\n",
    "import matplotlib.pyplot as plt\n",
    "import numpy as np"
   ]
  },
  {
   "cell_type": "markdown",
   "metadata": {},
   "source": [
    "**Functions**"
   ]
  },
  {
   "cell_type": "code",
   "execution_count": 5,
   "metadata": {},
   "outputs": [],
   "source": [
    "def analyze_missing_data(df):\n",
    "    \"\"\"\n",
    "    Analyze missing data patterns in a DataFrame.\n",
    "    \n",
    "    Parameters:\n",
    "    df (pandas.DataFrame): Input DataFrame to analyze\n",
    "    \n",
    "    Returns:\n",
    "    dict: Dictionary containing missing value statistics and patterns\n",
    "    \"\"\"\n",
    "    # Calculate basic missing value statistics\n",
    "    missing_stats = {\n",
    "        'total_missing': df.isnull().sum(),\n",
    "        'percent_missing': (df.isnull().sum() / len(df) * 100).round(2),\n",
    "        'missing_pattern_count': df.isnull().sum(axis=1).value_counts().sort_index()\n",
    "    }\n",
    "    \n",
    "    # Create missing value patterns\n",
    "    missing_patterns = df.isnull().astype(int)\n",
    "    pattern_counts = missing_patterns.groupby(list(missing_patterns.columns)).size().reset_index()\n",
    "    pattern_counts.columns = list(df.columns) + ['count']\n",
    "    pattern_counts = pattern_counts.sort_values('count', ascending=False)\n",
    "    \n",
    "    # Identify columns that tend to be missing together\n",
    "    correlation_matrix = missing_patterns.corr()\n",
    "    \n",
    "    # Find rows with specific numbers of missing values\n",
    "    rows_by_missing = {\n",
    "        'complete_rows': df.dropna().index,\n",
    "        'partial_missing': df[df.isnull().any(axis=1)].index,\n",
    "        'all_missing': df[df.isnull().all(axis=1)].index\n",
    "    }\n",
    "    \n",
    "    return {\n",
    "        'missing_stats': missing_stats,\n",
    "        'pattern_counts': pattern_counts,\n",
    "        'correlation_matrix': correlation_matrix,\n",
    "        'rows_by_missing': rows_by_missing\n",
    "    }\n",
    "\n",
    "def print_missing_analysis(analysis_results):\n",
    "    \"\"\"\n",
    "    Print formatted analysis results.\n",
    "    \n",
    "    Parameters:\n",
    "    analysis_results (dict): Results from analyze_missing_data function\n",
    "    \"\"\"\n",
    "    print(\"=== Missing Value Analysis ===\\n\")\n",
    "    \n",
    "    print(\"Missing Value Counts and Percentages:\")\n",
    "    missing_summary = pd.DataFrame({\n",
    "        'Missing Values': analysis_results['missing_stats']['total_missing'],\n",
    "        'Percentage': analysis_results['missing_stats']['percent_missing']\n",
    "    })\n",
    "    print(missing_summary[missing_summary['Missing Values'] > 0])\n",
    "    print(\"\\nMissing Value Patterns (Top 5):\")\n",
    "    print(analysis_results['pattern_counts'].head())\n",
    "    \n",
    "    print(\"\\nHighly Correlated Missing Patterns (correlation > 0.5):\")\n",
    "    corr_matrix = analysis_results['correlation_matrix']\n",
    "    high_corr = np.where(np.triu(corr_matrix, 1) > 0.5)\n",
    "    for i, j in zip(*high_corr):\n",
    "        print(f\"{corr_matrix.index[i]} & {corr_matrix.columns[j]}: {corr_matrix.iloc[i, j]:.2f}\")"
   ]
  },
  {
   "cell_type": "markdown",
   "metadata": {},
   "source": [
    "**Data**"
   ]
  },
  {
   "cell_type": "code",
   "execution_count": 26,
   "metadata": {},
   "outputs": [
    {
     "name": "stdout",
     "output_type": "stream",
     "text": [
      "Successfully read 87 features\n"
     ]
    }
   ],
   "source": [
    "# Read the data \n",
    "data = pd.read_csv('dataset.csv')\n",
    "\n",
    "print(f\"Successfully read {len(data.columns)} features\")"
   ]
  },
  {
   "cell_type": "code",
   "execution_count": 6,
   "metadata": {},
   "outputs": [],
   "source": [
    "# Lets try out the Analysis\n",
    "analysis_results = analyze_missing_data(data)"
   ]
  },
  {
   "cell_type": "code",
   "execution_count": 14,
   "metadata": {},
   "outputs": [
    {
     "name": "stdout",
     "output_type": "stream",
     "text": [
      "=== Missing Value Analysis ===\n",
      "\n",
      "Missing Value Counts and Percentages:\n",
      "               Missing Values  Percentage\n",
      "Flow Bytes/s            41051        1.27\n",
      "Flow IAT Mean           41709        1.29\n",
      "Flow IAT Std            41709        1.29\n",
      "Flow IAT Max            41709        1.29\n",
      "Flow IAT Min            41709        1.29\n",
      "\n",
      "Missing Value Patterns (Top 5):\n",
      "   Flow ID  Src IP  Src Port  Dst IP  Dst Port  Protocol  Timestamp  \\\n",
      "0        0       0         0       0         0         0          0   \n",
      "2        0       0         0       0         0         0          0   \n",
      "1        0       0         0       0         0         0          0   \n",
      "\n",
      "   Flow Duration  Total Fwd Packet  Total Bwd packets  ...  Active Std  \\\n",
      "0              0                 0                  0  ...           0   \n",
      "2              0                 0                  0  ...           0   \n",
      "1              0                 0                  0  ...           0   \n",
      "\n",
      "   Active Max  Active Min  Idle Mean  Idle Std  Idle Max  Idle Min  \\\n",
      "0           0           0          0         0         0         0   \n",
      "2           0           0          0         0         0         0   \n",
      "1           0           0          0         0         0         0   \n",
      "\n",
      "   Total TCP Flow Time  Label    count  \n",
      "0                    0      0  3189766  \n",
      "2                    0      0    41051  \n",
      "1                    0      0      658  \n",
      "\n",
      "[3 rows x 88 columns]\n",
      "\n",
      "Highly Correlated Missing Patterns (correlation > 0.5):\n",
      "Flow Bytes/s & Flow IAT Mean: 0.99\n",
      "Flow Bytes/s & Flow IAT Std: 0.99\n",
      "Flow Bytes/s & Flow IAT Max: 0.99\n",
      "Flow Bytes/s & Flow IAT Min: 0.99\n",
      "Flow IAT Mean & Flow IAT Std: 1.00\n",
      "Flow IAT Mean & Flow IAT Max: 1.00\n",
      "Flow IAT Mean & Flow IAT Min: 1.00\n",
      "Flow IAT Std & Flow IAT Max: 1.00\n",
      "Flow IAT Std & Flow IAT Min: 1.00\n",
      "Flow IAT Max & Flow IAT Min: 1.00\n"
     ]
    }
   ],
   "source": [
    "print_missing_analysis(analysis_results)"
   ]
  },
  {
   "cell_type": "markdown",
   "metadata": {},
   "source": [
    "**Handle Missing Values**"
   ]
  },
  {
   "cell_type": "code",
   "execution_count": 25,
   "metadata": {},
   "outputs": [
    {
     "name": "stdout",
     "output_type": "stream",
     "text": [
      "Series([], dtype: float64)\n"
     ]
    }
   ],
   "source": [
    "# Check\n",
    "print(data[data.columns[data.isna().any()].tolist()].isna().sum())"
   ]
  },
  {
   "cell_type": "code",
   "execution_count": 27,
   "metadata": {},
   "outputs": [
    {
     "name": "stdout",
     "output_type": "stream",
     "text": [
      "Number of rows before handling missing values: 3231475\n",
      "Number of rows after handling missing values: 3189766\n"
     ]
    }
   ],
   "source": [
    "print(f\"Number of rows before handling missing values: {len(data)}\")\n",
    "# Since missing values are very less as compared to the dataset, we ll just drop these rows \n",
    "data = data.dropna()\n",
    "\n",
    "print(f\"Number of rows after handling missing values: {len(data)}\")"
   ]
  },
  {
   "cell_type": "code",
   "execution_count": 28,
   "metadata": {},
   "outputs": [
    {
     "data": {
      "text/plain": [
       "0"
      ]
     },
     "execution_count": 28,
     "metadata": {},
     "output_type": "execute_result"
    }
   ],
   "source": [
    "data.isna().sum().sum()"
   ]
  },
  {
   "cell_type": "markdown",
   "metadata": {},
   "source": [
    "**Save it to 01_missing_values_handled.csv**"
   ]
  },
  {
   "cell_type": "code",
   "execution_count": 29,
   "metadata": {},
   "outputs": [],
   "source": [
    "# Save data to data_versions \n",
    "data.to_csv('data_versions/01_missing_values_removed.csv', index=False)"
   ]
  },
  {
   "cell_type": "code",
   "execution_count": null,
   "metadata": {},
   "outputs": [],
   "source": []
  }
 ],
 "metadata": {
  "kernelspec": {
   "display_name": "base",
   "language": "python",
   "name": "python3"
  },
  "language_info": {
   "codemirror_mode": {
    "name": "ipython",
    "version": 3
   },
   "file_extension": ".py",
   "mimetype": "text/x-python",
   "name": "python",
   "nbconvert_exporter": "python",
   "pygments_lexer": "ipython3",
   "version": "3.11.5"
  }
 },
 "nbformat": 4,
 "nbformat_minor": 2
}
