{
 "cells": [
  {
   "cell_type": "markdown",
   "metadata": {},
   "source": [
    "## **Outlier Treatment**\n",
    "\n",
    "Outlier treatment is important because outliers can significantly affect the performance and reliability of a model. Here’s why handling them properly matters:\n",
    "\n",
    "1. Improves Model Accuracy: Outliers can skew the results of statistical analyses, leading to inaccurate models. By removing or adjusting outliers, the model can make more reliable predictions.\n",
    "\n",
    "2. Enhances Model Training: Many machine learning models, especially linear regression, K-nearest neighbors, and neural networks, are sensitive to outliers. Outliers can cause models to overfit, impacting their generalization to new data.\n",
    "\n",
    "3. Improves Statistical Metrics: Outliers can distort metrics like mean and standard deviation, affecting data interpretation. Proper treatment gives a clearer, more representative picture of the data."
   ]
  },
  {
   "cell_type": "code",
   "execution_count": 1,
   "metadata": {},
   "outputs": [],
   "source": [
    "import pandas as pd\n",
    "import seaborn as sns\n",
    "import matplotlib.pyplot as plt\n",
    "import numpy as np\n",
    "import math \n",
    "from scipy import stats"
   ]
  },
  {
   "cell_type": "markdown",
   "metadata": {},
   "source": [
    "**Data**"
   ]
  },
  {
   "cell_type": "code",
   "execution_count": 2,
   "metadata": {},
   "outputs": [
    {
     "name": "stdout",
     "output_type": "stream",
     "text": [
      "Successfully read 87 features\n"
     ]
    }
   ],
   "source": [
    "# load data \n",
    "# loading data with missing value handled \n",
    "data = pd.read_csv('data_versions/01_missing_values_removed.csv')\n",
    "\n",
    "print(f\"Successfully read {len(data.columns)} features\")"
   ]
  },
  {
   "cell_type": "markdown",
   "metadata": {},
   "source": [
    "**Functions**"
   ]
  },
  {
   "cell_type": "code",
   "execution_count": 23,
   "metadata": {},
   "outputs": [],
   "source": [
    "# Functions \n",
    "\n",
    "def remove_outliers_75(df, column):\n",
    "    \"\"\"\n",
    "    Remove values above the 75th percentile in the specified column.\n",
    "    \n",
    "    Parameters:\n",
    "    df: pandas DataFrame\n",
    "    column: str, name of the column to process\n",
    "    \n",
    "    Returns:\n",
    "    pandas DataFrame with outliers removed\n",
    "    \"\"\"\n",
    "    # Calculate 75th percentile\n",
    "    q75 = df[column].quantile(0.75)\n",
    "    \n",
    "    # Return DataFrame with values <= 75th percentile\n",
    "    return df[df[column] <= q75]\n",
    "\n",
    "\n",
    "def cap_outliers_75(df, columns: list):\n",
    "    \"\"\"\n",
    "    Cap values above the 75th percentile in specified columns.\n",
    "    Values above 75th percentile are replaced with the 75th percentile value.\n",
    "    \n",
    "    Parameters:\n",
    "    df: pandas DataFrame\n",
    "    columns: list of str, names of columns to process\n",
    "    \n",
    "    Returns:\n",
    "    pandas DataFrame with outliers capped in specified columns\n",
    "    \"\"\"\n",
    "    # Create a copy of the DataFrame to avoid modifying the original\n",
    "    df_capped = df.copy()\n",
    "    \n",
    "    # Process each specified column\n",
    "    for column in columns:\n",
    "        # Calculate 75th percentile\n",
    "        q75 = df[column].quantile(0.75)\n",
    "        \n",
    "        # Cap values above 75th percentile\n",
    "        df_capped[column] = df[column].clip(upper=q75)\n",
    "    \n",
    "    return df_capped\n",
    "\n",
    "\n",
    "def cap_columns_with_a_value(df, cap_dict: dict):\n",
    "    \"\"\"\n",
    "    Cap values in specified columns at custom values.\n",
    "    \n",
    "    Parameters:\n",
    "    df: pandas DataFrame\n",
    "    cap_dict: dict, mapping of column names to their cap values\n",
    "             e.g., {'column1': 100, 'column2': 50}\n",
    "    \n",
    "    Returns:\n",
    "    pandas DataFrame with specified columns capped at their respective values\n",
    "    \"\"\"\n",
    "    # Create a copy of the DataFrame to avoid modifying the original\n",
    "    df_capped = df.copy()\n",
    "    \n",
    "    # Process each column with its specified cap value\n",
    "    for column, cap_value in cap_dict.items():\n",
    "        df_capped[column] = df[column].clip(upper=cap_value)\n",
    "    \n",
    "    return df_capped\n",
    "\n"
   ]
  },
  {
   "cell_type": "markdown",
   "metadata": {},
   "source": [
    "**Outlier Removal**"
   ]
  },
  {
   "cell_type": "code",
   "execution_count": 13,
   "metadata": {},
   "outputs": [],
   "source": [
    "# Before we proceed, we ll remove irrelevant columns\n",
    "irrelevant_columns = ['Fwd URG Flags', 'Bwd URG Flags', 'URG Flag Count', 'CWR Flag Count', 'ECE Flag Count']\n",
    "\n",
    "# Drop\n",
    "data = data.drop(columns=irrelevant_columns)"
   ]
  },
  {
   "cell_type": "code",
   "execution_count": 14,
   "metadata": {},
   "outputs": [
    {
     "name": "stdout",
     "output_type": "stream",
     "text": [
      "New number of features: 82\n"
     ]
    }
   ],
   "source": [
    "# print \n",
    "print(f\"New number of features: {len(data.columns)}\")"
   ]
  },
  {
   "cell_type": "code",
   "execution_count": 15,
   "metadata": {},
   "outputs": [
    {
     "name": "stdout",
     "output_type": "stream",
     "text": [
      "Number of rows: 3189766\n"
     ]
    }
   ],
   "source": [
    "# print \n",
    "print(f\"Number of rows: {len(data)}\")"
   ]
  },
  {
   "cell_type": "markdown",
   "metadata": {},
   "source": [
    "**Cap and Floor treatment**\n",
    "\n",
    "- Clips the maximum values of columns to its 75th percentile, handling outlier but keeping the dataset intact"
   ]
  },
  {
   "cell_type": "code",
   "execution_count": 17,
   "metadata": {},
   "outputs": [],
   "source": [
    "# Apply\n",
    "columns_to_cap = ['Total Fwd Packet', 'Total Bwd packets', 'Total Length of Fwd Packet', 'Total Length of Bwd Packet', 'Flow Bytes/s', 'Flow IAT Mean', 'Fwd Header Length', 'Bwd Header Length', 'Packet Length Variance']\n",
    "\n",
    "# Cap outliers\n",
    "data_capped = cap_outliers_75(data, columns_to_cap)"
   ]
  },
  {
   "cell_type": "code",
   "execution_count": 24,
   "metadata": {},
   "outputs": [
    {
     "name": "stdout",
     "output_type": "stream",
     "text": [
      "Number of rows after capping: 3189766\n"
     ]
    }
   ],
   "source": [
    "# print rows \n",
    "print(f\"Number of rows after capping: {len(data_capped)}\")"
   ]
  },
  {
   "cell_type": "markdown",
   "metadata": {},
   "source": [
    "**Some features need careful outlier removal, thus we are capping these columns with specific maximum values, so that we wont lose important outliers**"
   ]
  },
  {
   "cell_type": "code",
   "execution_count": 26,
   "metadata": {},
   "outputs": [],
   "source": [
    "# Capping under a specified value \n",
    "\n",
    "cap_dict = {\n",
    "    'Flow Packets/s': 200000,\n",
    "    'Down/Up Ratio': 4,\n",
    "    'Average Packet Size': 2500,\n",
    "    'Fwd Segment Size Avg': 2500,\n",
    "    'Bwd Segment Size Avg': 3000,\n",
    "    'Fwd Bytes/Bulk Avg': 250000,\n",
    "    'Subflow Fwd Bytes': 1700, \n",
    "    'Subflow Bwd Bytes': 2500,\n",
    "    'Bwd Init Win Bytes': 12000,\n",
    "    'Active Mean': 10000000,\n",
    "    'Idle Mean': 40000000,\n",
    "    'Total TCP Flow Time': 10000000000\n",
    "}\n",
    "\n",
    "# apply\n",
    "data_capped_v2 = cap_columns_with_a_value(data_capped, cap_dict)"
   ]
  },
  {
   "cell_type": "code",
   "execution_count": 27,
   "metadata": {},
   "outputs": [
    {
     "name": "stdout",
     "output_type": "stream",
     "text": [
      "Number of rows after capping: 3189766\n"
     ]
    }
   ],
   "source": [
    "# print rows\n",
    "print(f\"Number of rows after capping: {len(data_capped_v2)}\")"
   ]
  },
  {
   "cell_type": "markdown",
   "metadata": {},
   "source": [
    "Hurray! outliers are treated! \n",
    "\n",
    "Lets save the data"
   ]
  },
  {
   "cell_type": "markdown",
   "metadata": {},
   "source": [
    "**Save the data to data_versions**"
   ]
  },
  {
   "cell_type": "code",
   "execution_count": 28,
   "metadata": {},
   "outputs": [],
   "source": [
    "data_capped_v2.to_csv('data_versions/02_outliers_removed.csv', index=False)"
   ]
  }
 ],
 "metadata": {
  "kernelspec": {
   "display_name": "base",
   "language": "python",
   "name": "python3"
  },
  "language_info": {
   "codemirror_mode": {
    "name": "ipython",
    "version": 3
   },
   "file_extension": ".py",
   "mimetype": "text/x-python",
   "name": "python",
   "nbconvert_exporter": "python",
   "pygments_lexer": "ipython3",
   "version": "3.11.5"
  }
 },
 "nbformat": 4,
 "nbformat_minor": 2
}
