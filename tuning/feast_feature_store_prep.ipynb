{
 "cells": [
  {
   "cell_type": "markdown",
   "metadata": {},
   "source": [
    "Preparing features to store in Feast's feature store"
   ]
  },
  {
   "cell_type": "code",
   "execution_count": null,
   "metadata": {},
   "outputs": [],
   "source": [
    "import pandas as pd \n",
    "import os \n",
    "import numpy as np"
   ]
  },
  {
   "cell_type": "code",
   "execution_count": 2,
   "metadata": {},
   "outputs": [],
   "source": [
    "# read data \n",
    "data = pd.read_csv(\"06_data_resampled.csv\")"
   ]
  },
  {
   "cell_type": "code",
   "execution_count": 4,
   "metadata": {},
   "outputs": [
    {
     "data": {
      "text/html": [
       "<div>\n",
       "<style scoped>\n",
       "    .dataframe tbody tr th:only-of-type {\n",
       "        vertical-align: middle;\n",
       "    }\n",
       "\n",
       "    .dataframe tbody tr th {\n",
       "        vertical-align: top;\n",
       "    }\n",
       "\n",
       "    .dataframe thead th {\n",
       "        text-align: right;\n",
       "    }\n",
       "</style>\n",
       "<table border=\"1\" class=\"dataframe\">\n",
       "  <thead>\n",
       "    <tr style=\"text-align: right;\">\n",
       "      <th></th>\n",
       "      <th>PC1</th>\n",
       "      <th>PC2</th>\n",
       "      <th>PC3</th>\n",
       "      <th>PC4</th>\n",
       "      <th>PC5</th>\n",
       "      <th>PC6</th>\n",
       "      <th>PC7</th>\n",
       "      <th>PC8</th>\n",
       "      <th>PC9</th>\n",
       "      <th>target</th>\n",
       "    </tr>\n",
       "  </thead>\n",
       "  <tbody>\n",
       "    <tr>\n",
       "      <th>0</th>\n",
       "      <td>-1.030484</td>\n",
       "      <td>-0.917234</td>\n",
       "      <td>-0.417428</td>\n",
       "      <td>-4.484990</td>\n",
       "      <td>-0.027524</td>\n",
       "      <td>0.172187</td>\n",
       "      <td>0.576443</td>\n",
       "      <td>-0.648705</td>\n",
       "      <td>-0.081865</td>\n",
       "      <td>0.0</td>\n",
       "    </tr>\n",
       "    <tr>\n",
       "      <th>1</th>\n",
       "      <td>-5.854288</td>\n",
       "      <td>-2.919187</td>\n",
       "      <td>0.919840</td>\n",
       "      <td>-1.698332</td>\n",
       "      <td>-0.323658</td>\n",
       "      <td>-0.812397</td>\n",
       "      <td>-0.396448</td>\n",
       "      <td>0.069501</td>\n",
       "      <td>0.073096</td>\n",
       "      <td>0.0</td>\n",
       "    </tr>\n",
       "    <tr>\n",
       "      <th>2</th>\n",
       "      <td>21.583602</td>\n",
       "      <td>-12.471371</td>\n",
       "      <td>-5.233301</td>\n",
       "      <td>12.210306</td>\n",
       "      <td>19.029674</td>\n",
       "      <td>0.770133</td>\n",
       "      <td>3.041642</td>\n",
       "      <td>0.630284</td>\n",
       "      <td>-2.482647</td>\n",
       "      <td>0.0</td>\n",
       "    </tr>\n",
       "  </tbody>\n",
       "</table>\n",
       "</div>"
      ],
      "text/plain": [
       "         PC1        PC2       PC3        PC4        PC5       PC6       PC7  \\\n",
       "0  -1.030484  -0.917234 -0.417428  -4.484990  -0.027524  0.172187  0.576443   \n",
       "1  -5.854288  -2.919187  0.919840  -1.698332  -0.323658 -0.812397 -0.396448   \n",
       "2  21.583602 -12.471371 -5.233301  12.210306  19.029674  0.770133  3.041642   \n",
       "\n",
       "        PC8       PC9  target  \n",
       "0 -0.648705 -0.081865     0.0  \n",
       "1  0.069501  0.073096     0.0  \n",
       "2  0.630284 -2.482647     0.0  "
      ]
     },
     "execution_count": 4,
     "metadata": {},
     "output_type": "execute_result"
    }
   ],
   "source": [
    "data.head(3)"
   ]
  },
  {
   "cell_type": "code",
   "execution_count": 18,
   "metadata": {},
   "outputs": [],
   "source": [
    "predictors_df = data.loc[:, data.columns!='target']\n",
    "target_df = data['target']"
   ]
  },
  {
   "cell_type": "markdown",
   "metadata": {},
   "source": [
    "We have to add two columns: \n",
    "\n",
    "- event_timestamp: the time when the feature was created \n",
    "- feature_id: the id of the feature"
   ]
  },
  {
   "cell_type": "code",
   "execution_count": null,
   "metadata": {},
   "outputs": [],
   "source": [
    "# timestamp\n",
    "timestamps = pd.date_range(\n",
    "    end = pd.Timestamp.now(), periods = len(data), freq = \"H\"\n",
    ").to_frame(name=\"event_timestamp\", index=False)"
   ]
  },
  {
   "cell_type": "code",
   "execution_count": 15,
   "metadata": {},
   "outputs": [],
   "source": [
    "# id \n",
    "datalen = len(data)\n",
    "idslist = list(range(datalen))\n",
    "\n",
    "feature_ids = pd.DataFrame(idslist, columns=['feature_id'])"
   ]
  },
  {
   "cell_type": "code",
   "execution_count": 19,
   "metadata": {},
   "outputs": [],
   "source": [
    "# Merge these columns \n",
    "predictors_df = pd.concat([timestamps, predictors_df], axis=1) \n",
    "target_df = pd.concat([timestamps, target_df], axis=1)\n",
    "\n",
    "predictors_df = pd.concat([feature_ids, predictors_df], axis=1) \n",
    "target_df = pd.concat([feature_ids, target_df], axis=1)"
   ]
  },
  {
   "cell_type": "code",
   "execution_count": 21,
   "metadata": {},
   "outputs": [
    {
     "data": {
      "text/html": [
       "<div>\n",
       "<style scoped>\n",
       "    .dataframe tbody tr th:only-of-type {\n",
       "        vertical-align: middle;\n",
       "    }\n",
       "\n",
       "    .dataframe tbody tr th {\n",
       "        vertical-align: top;\n",
       "    }\n",
       "\n",
       "    .dataframe thead th {\n",
       "        text-align: right;\n",
       "    }\n",
       "</style>\n",
       "<table border=\"1\" class=\"dataframe\">\n",
       "  <thead>\n",
       "    <tr style=\"text-align: right;\">\n",
       "      <th></th>\n",
       "      <th>feature_id</th>\n",
       "      <th>event_timestamp</th>\n",
       "      <th>PC1</th>\n",
       "      <th>PC2</th>\n",
       "      <th>PC3</th>\n",
       "      <th>PC4</th>\n",
       "      <th>PC5</th>\n",
       "      <th>PC6</th>\n",
       "      <th>PC7</th>\n",
       "      <th>PC8</th>\n",
       "      <th>PC9</th>\n",
       "    </tr>\n",
       "  </thead>\n",
       "  <tbody>\n",
       "    <tr>\n",
       "      <th>0</th>\n",
       "      <td>0</td>\n",
       "      <td>2019-04-13 03:13:32.255766</td>\n",
       "      <td>-1.030484</td>\n",
       "      <td>-0.917234</td>\n",
       "      <td>-0.417428</td>\n",
       "      <td>-4.484990</td>\n",
       "      <td>-0.027524</td>\n",
       "      <td>0.172187</td>\n",
       "      <td>0.576443</td>\n",
       "      <td>-0.648705</td>\n",
       "      <td>-0.081865</td>\n",
       "    </tr>\n",
       "    <tr>\n",
       "      <th>1</th>\n",
       "      <td>1</td>\n",
       "      <td>2019-04-13 04:13:32.255766</td>\n",
       "      <td>-5.854288</td>\n",
       "      <td>-2.919187</td>\n",
       "      <td>0.919840</td>\n",
       "      <td>-1.698332</td>\n",
       "      <td>-0.323658</td>\n",
       "      <td>-0.812397</td>\n",
       "      <td>-0.396448</td>\n",
       "      <td>0.069501</td>\n",
       "      <td>0.073096</td>\n",
       "    </tr>\n",
       "    <tr>\n",
       "      <th>2</th>\n",
       "      <td>2</td>\n",
       "      <td>2019-04-13 05:13:32.255766</td>\n",
       "      <td>21.583602</td>\n",
       "      <td>-12.471371</td>\n",
       "      <td>-5.233301</td>\n",
       "      <td>12.210306</td>\n",
       "      <td>19.029674</td>\n",
       "      <td>0.770133</td>\n",
       "      <td>3.041642</td>\n",
       "      <td>0.630284</td>\n",
       "      <td>-2.482647</td>\n",
       "    </tr>\n",
       "  </tbody>\n",
       "</table>\n",
       "</div>"
      ],
      "text/plain": [
       "   feature_id            event_timestamp        PC1        PC2       PC3  \\\n",
       "0           0 2019-04-13 03:13:32.255766  -1.030484  -0.917234 -0.417428   \n",
       "1           1 2019-04-13 04:13:32.255766  -5.854288  -2.919187  0.919840   \n",
       "2           2 2019-04-13 05:13:32.255766  21.583602 -12.471371 -5.233301   \n",
       "\n",
       "         PC4        PC5       PC6       PC7       PC8       PC9  \n",
       "0  -4.484990  -0.027524  0.172187  0.576443 -0.648705 -0.081865  \n",
       "1  -1.698332  -0.323658 -0.812397 -0.396448  0.069501  0.073096  \n",
       "2  12.210306  19.029674  0.770133  3.041642  0.630284 -2.482647  "
      ]
     },
     "execution_count": 21,
     "metadata": {},
     "output_type": "execute_result"
    }
   ],
   "source": [
    "predictors_df.head(3)"
   ]
  },
  {
   "cell_type": "code",
   "execution_count": 22,
   "metadata": {},
   "outputs": [
    {
     "data": {
      "text/html": [
       "<div>\n",
       "<style scoped>\n",
       "    .dataframe tbody tr th:only-of-type {\n",
       "        vertical-align: middle;\n",
       "    }\n",
       "\n",
       "    .dataframe tbody tr th {\n",
       "        vertical-align: top;\n",
       "    }\n",
       "\n",
       "    .dataframe thead th {\n",
       "        text-align: right;\n",
       "    }\n",
       "</style>\n",
       "<table border=\"1\" class=\"dataframe\">\n",
       "  <thead>\n",
       "    <tr style=\"text-align: right;\">\n",
       "      <th></th>\n",
       "      <th>feature_id</th>\n",
       "      <th>event_timestamp</th>\n",
       "      <th>target</th>\n",
       "    </tr>\n",
       "  </thead>\n",
       "  <tbody>\n",
       "    <tr>\n",
       "      <th>0</th>\n",
       "      <td>0</td>\n",
       "      <td>2019-04-13 03:13:32.255766</td>\n",
       "      <td>0.0</td>\n",
       "    </tr>\n",
       "    <tr>\n",
       "      <th>1</th>\n",
       "      <td>1</td>\n",
       "      <td>2019-04-13 04:13:32.255766</td>\n",
       "      <td>0.0</td>\n",
       "    </tr>\n",
       "    <tr>\n",
       "      <th>2</th>\n",
       "      <td>2</td>\n",
       "      <td>2019-04-13 05:13:32.255766</td>\n",
       "      <td>0.0</td>\n",
       "    </tr>\n",
       "  </tbody>\n",
       "</table>\n",
       "</div>"
      ],
      "text/plain": [
       "   feature_id            event_timestamp  target\n",
       "0           0 2019-04-13 03:13:32.255766     0.0\n",
       "1           1 2019-04-13 04:13:32.255766     0.0\n",
       "2           2 2019-04-13 05:13:32.255766     0.0"
      ]
     },
     "execution_count": 22,
     "metadata": {},
     "output_type": "execute_result"
    }
   ],
   "source": [
    "target_df.head(3)"
   ]
  },
  {
   "cell_type": "code",
   "execution_count": 25,
   "metadata": {},
   "outputs": [
    {
     "name": "stdout",
     "output_type": "stream",
     "text": [
      "predictors_df shape: (49522, 11)\n",
      "target_df shape: (49522, 3)\n"
     ]
    }
   ],
   "source": [
    "# shapes\n",
    "print(f\"predictors_df shape: {predictors_df.shape}\")\n",
    "print(f\"target_df shape: {target_df.shape}\")\n"
   ]
  },
  {
   "cell_type": "markdown",
   "metadata": {},
   "source": [
    "save data "
   ]
  },
  {
   "cell_type": "code",
   "execution_count": 26,
   "metadata": {},
   "outputs": [],
   "source": [
    "predictors_df.to_parquet(path=\"predictors.parquet\")\n",
    "target_df.to_parquet(path=\"target.parquet\")"
   ]
  }
 ],
 "metadata": {
  "kernelspec": {
   "display_name": "base",
   "language": "python",
   "name": "python3"
  },
  "language_info": {
   "codemirror_mode": {
    "name": "ipython",
    "version": 3
   },
   "file_extension": ".py",
   "mimetype": "text/x-python",
   "name": "python",
   "nbconvert_exporter": "python",
   "pygments_lexer": "ipython3",
   "version": "3.11.5"
  }
 },
 "nbformat": 4,
 "nbformat_minor": 2
}
